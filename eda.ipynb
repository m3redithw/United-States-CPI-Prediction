{
 "cells": [
  {
   "cell_type": "code",
   "execution_count": 1,
   "id": "ee4ae5ca",
   "metadata": {},
   "outputs": [],
   "source": [
    "# ignore warning\n",
    "import warnings\n",
    "warnings.filterwarnings(\"ignore\")\n",
    "\n",
    "import numpy as np\n",
    "import pandas as pd\n",
    "\n",
    "# visualize \n",
    "import matplotlib.pyplot as plt\n",
    "%matplotlib inline\n",
    "import seaborn as sns\n",
    "\n",
    "# working with dates\n",
    "from datetime import datetime\n",
    "\n",
    "# to evaluated performance using rmse\n",
    "from sklearn.metrics import mean_squared_error\n",
    "from math import sqrt \n",
    "\n",
    "# for tsa \n",
    "import statsmodels.api as sm\n",
    "\n",
    "# holt's linear trend model. \n",
    "from statsmodels.tsa.api import Holt\n",
    "\n",
    "# import prepare function\n",
    "import prepare"
   ]
  },
  {
   "cell_type": "markdown",
   "id": "de7a8b43",
   "metadata": {},
   "source": [
    "# Wrangle"
   ]
  },
  {
   "cell_type": "code",
   "execution_count": 2,
   "id": "af5b506d",
   "metadata": {},
   "outputs": [],
   "source": [
    "# Getting data using prepare function\n",
    "df = prepare.get_data()"
   ]
  },
  {
   "cell_type": "code",
   "execution_count": 3,
   "id": "8dbed8da",
   "metadata": {},
   "outputs": [
    {
     "data": {
      "text/html": [
       "<div>\n",
       "<style scoped>\n",
       "    .dataframe tbody tr th:only-of-type {\n",
       "        vertical-align: middle;\n",
       "    }\n",
       "\n",
       "    .dataframe tbody tr th {\n",
       "        vertical-align: top;\n",
       "    }\n",
       "\n",
       "    .dataframe thead th {\n",
       "        text-align: right;\n",
       "    }\n",
       "</style>\n",
       "<table border=\"1\" class=\"dataframe\">\n",
       "  <thead>\n",
       "    <tr style=\"text-align: right;\">\n",
       "      <th></th>\n",
       "      <th>year</th>\n",
       "      <th>month</th>\n",
       "      <th>label</th>\n",
       "      <th>all_items_value</th>\n",
       "      <th>all_items_ monthly_change</th>\n",
       "      <th>apparel_value</th>\n",
       "      <th>apparel_monthly_change</th>\n",
       "      <th>energy_value</th>\n",
       "      <th>energy_monthly_change</th>\n",
       "      <th>food_value</th>\n",
       "      <th>food_monthly_change</th>\n",
       "      <th>gas_value</th>\n",
       "      <th>gas_monthly_change</th>\n",
       "      <th>medical_value</th>\n",
       "      <th>medical_monthly_change</th>\n",
       "      <th>transportation_value</th>\n",
       "      <th>transportation_monthly_change</th>\n",
       "    </tr>\n",
       "  </thead>\n",
       "  <tbody>\n",
       "    <tr>\n",
       "      <th>0</th>\n",
       "      <td>1970</td>\n",
       "      <td>01</td>\n",
       "      <td>1957-01-01</td>\n",
       "      <td>27.67</td>\n",
       "      <td>0.1</td>\n",
       "      <td>44.3</td>\n",
       "      <td>0.0</td>\n",
       "      <td>21.3</td>\n",
       "      <td>0.0</td>\n",
       "      <td>28.4</td>\n",
       "      <td>-0.4</td>\n",
       "      <td>NaN</td>\n",
       "      <td>NaN</td>\n",
       "      <td>16.7</td>\n",
       "      <td>0.6</td>\n",
       "      <td>23.5</td>\n",
       "      <td>0.9</td>\n",
       "    </tr>\n",
       "    <tr>\n",
       "      <th>1</th>\n",
       "      <td>1970</td>\n",
       "      <td>02</td>\n",
       "      <td>1957-02-01</td>\n",
       "      <td>27.80</td>\n",
       "      <td>0.5</td>\n",
       "      <td>44.3</td>\n",
       "      <td>0.0</td>\n",
       "      <td>21.4</td>\n",
       "      <td>0.5</td>\n",
       "      <td>28.7</td>\n",
       "      <td>1.1</td>\n",
       "      <td>NaN</td>\n",
       "      <td>NaN</td>\n",
       "      <td>16.7</td>\n",
       "      <td>0.0</td>\n",
       "      <td>23.7</td>\n",
       "      <td>0.9</td>\n",
       "    </tr>\n",
       "    <tr>\n",
       "      <th>2</th>\n",
       "      <td>1970</td>\n",
       "      <td>03</td>\n",
       "      <td>1957-03-01</td>\n",
       "      <td>27.86</td>\n",
       "      <td>0.2</td>\n",
       "      <td>44.5</td>\n",
       "      <td>0.5</td>\n",
       "      <td>21.5</td>\n",
       "      <td>0.5</td>\n",
       "      <td>28.6</td>\n",
       "      <td>-0.3</td>\n",
       "      <td>NaN</td>\n",
       "      <td>NaN</td>\n",
       "      <td>16.8</td>\n",
       "      <td>0.6</td>\n",
       "      <td>23.7</td>\n",
       "      <td>0.0</td>\n",
       "    </tr>\n",
       "    <tr>\n",
       "      <th>3</th>\n",
       "      <td>1970</td>\n",
       "      <td>04</td>\n",
       "      <td>1957-04-01</td>\n",
       "      <td>27.93</td>\n",
       "      <td>0.3</td>\n",
       "      <td>44.4</td>\n",
       "      <td>-0.2</td>\n",
       "      <td>21.6</td>\n",
       "      <td>0.5</td>\n",
       "      <td>28.6</td>\n",
       "      <td>0.0</td>\n",
       "      <td>NaN</td>\n",
       "      <td>NaN</td>\n",
       "      <td>16.9</td>\n",
       "      <td>0.6</td>\n",
       "      <td>23.8</td>\n",
       "      <td>0.4</td>\n",
       "    </tr>\n",
       "    <tr>\n",
       "      <th>4</th>\n",
       "      <td>1970</td>\n",
       "      <td>05</td>\n",
       "      <td>1957-05-01</td>\n",
       "      <td>28.00</td>\n",
       "      <td>0.3</td>\n",
       "      <td>44.5</td>\n",
       "      <td>0.2</td>\n",
       "      <td>21.6</td>\n",
       "      <td>0.0</td>\n",
       "      <td>28.7</td>\n",
       "      <td>0.3</td>\n",
       "      <td>NaN</td>\n",
       "      <td>NaN</td>\n",
       "      <td>16.9</td>\n",
       "      <td>0.0</td>\n",
       "      <td>23.9</td>\n",
       "      <td>0.4</td>\n",
       "    </tr>\n",
       "  </tbody>\n",
       "</table>\n",
       "</div>"
      ],
      "text/plain": [
       "   year month      label  all_items_value  all_items_ monthly_change  \\\n",
       "0  1970    01 1957-01-01            27.67                        0.1   \n",
       "1  1970    02 1957-02-01            27.80                        0.5   \n",
       "2  1970    03 1957-03-01            27.86                        0.2   \n",
       "3  1970    04 1957-04-01            27.93                        0.3   \n",
       "4  1970    05 1957-05-01            28.00                        0.3   \n",
       "\n",
       "   apparel_value  apparel_monthly_change  energy_value  energy_monthly_change  \\\n",
       "0           44.3                     0.0          21.3                    0.0   \n",
       "1           44.3                     0.0          21.4                    0.5   \n",
       "2           44.5                     0.5          21.5                    0.5   \n",
       "3           44.4                    -0.2          21.6                    0.5   \n",
       "4           44.5                     0.2          21.6                    0.0   \n",
       "\n",
       "   food_value  food_monthly_change  gas_value  gas_monthly_change  \\\n",
       "0        28.4                 -0.4        NaN                 NaN   \n",
       "1        28.7                  1.1        NaN                 NaN   \n",
       "2        28.6                 -0.3        NaN                 NaN   \n",
       "3        28.6                  0.0        NaN                 NaN   \n",
       "4        28.7                  0.3        NaN                 NaN   \n",
       "\n",
       "   medical_value  medical_monthly_change  transportation_value  \\\n",
       "0           16.7                     0.6                  23.5   \n",
       "1           16.7                     0.0                  23.7   \n",
       "2           16.8                     0.6                  23.7   \n",
       "3           16.9                     0.6                  23.8   \n",
       "4           16.9                     0.0                  23.9   \n",
       "\n",
       "   transportation_monthly_change  \n",
       "0                            0.9  \n",
       "1                            0.9  \n",
       "2                            0.0  \n",
       "3                            0.4  \n",
       "4                            0.4  "
      ]
     },
     "execution_count": 3,
     "metadata": {},
     "output_type": "execute_result"
    }
   ],
   "source": [
    "df.head()"
   ]
  },
  {
   "cell_type": "code",
   "execution_count": 4,
   "id": "97a6cd4c",
   "metadata": {},
   "outputs": [
    {
     "data": {
      "text/plain": [
       "(787, 17)"
      ]
     },
     "execution_count": 4,
     "metadata": {},
     "output_type": "execute_result"
    }
   ],
   "source": [
    "# Check the shape of data\n",
    "df.shape"
   ]
  },
  {
   "cell_type": "code",
   "execution_count": 5,
   "id": "eaa83be6",
   "metadata": {},
   "outputs": [],
   "source": [
    "# Setting label as index\n",
    "df = df.set_index('label')"
   ]
  },
  {
   "cell_type": "markdown",
   "id": "673e66b2",
   "metadata": {},
   "source": [
    "# Split Data\n",
    "\n",
    "1. We will use the training proportion method to split.    \n",
    "2. Identify the total length of the dataframe and multiply by `train_prop` to get the number of rows that equates to the first x% of the dataframe, which equates to the first x% of the time covered in the data.   (`x = train_prop * 100`)  \n",
    "3. Select row indices from 0 up to the index representing x-percentile for train, and from the index representing x-percentile through the end of the dataframe for test. In both of these, we will reset the index in order to return dataframes sorted by datetime.  \n",
    "4. Return train and test dataframes.  "
   ]
  },
  {
   "cell_type": "code",
   "execution_count": 6,
   "id": "75f0e89a",
   "metadata": {},
   "outputs": [
    {
     "data": {
      "text/plain": [
       "394"
      ]
     },
     "execution_count": 6,
     "metadata": {},
     "output_type": "execute_result"
    }
   ],
   "source": [
    "# set train size to be 50% of total \n",
    "train_size = int(round(df.shape[0] * 0.5))\n",
    "train_size"
   ]
  },
  {
   "cell_type": "code",
   "execution_count": 7,
   "id": "0f806e43",
   "metadata": {},
   "outputs": [
    {
     "data": {
      "text/plain": [
       "236"
      ]
     },
     "execution_count": 7,
     "metadata": {},
     "output_type": "execute_result"
    }
   ],
   "source": [
    "# set validate size to be 30% of total \n",
    "validate_size = int(round(df.shape[0] * 0.3))\n",
    "validate_size"
   ]
  },
  {
   "cell_type": "code",
   "execution_count": 8,
   "id": "55ebd05e",
   "metadata": {},
   "outputs": [
    {
     "data": {
      "text/plain": [
       "157"
      ]
     },
     "execution_count": 8,
     "metadata": {},
     "output_type": "execute_result"
    }
   ],
   "source": [
    "# set test size to be number of rows remaining. \n",
    "test_size = int(round(df.shape[0] * 0.2))\n",
    "test_size"
   ]
  },
  {
   "cell_type": "code",
   "execution_count": 9,
   "id": "b336b867",
   "metadata": {},
   "outputs": [
    {
     "data": {
      "text/plain": [
       "True"
      ]
     },
     "execution_count": 9,
     "metadata": {},
     "output_type": "execute_result"
    }
   ],
   "source": [
    "# Varify length\n",
    "len(df) == train_size + validate_size + test_size"
   ]
  },
  {
   "cell_type": "code",
   "execution_count": 10,
   "id": "1c5b45a0",
   "metadata": {},
   "outputs": [
    {
     "data": {
      "text/plain": [
       "630"
      ]
     },
     "execution_count": 10,
     "metadata": {},
     "output_type": "execute_result"
    }
   ],
   "source": [
    "# validate will go from 394 to 394+236\n",
    "validate_end_index = train_size + validate_size\n",
    "validate_end_index"
   ]
  },
  {
   "cell_type": "markdown",
   "id": "154b8e70",
   "metadata": {},
   "source": [
    "#### Now, use those values to split our dataframe"
   ]
  },
  {
   "cell_type": "code",
   "execution_count": 11,
   "id": "8dcc4673",
   "metadata": {},
   "outputs": [],
   "source": [
    "# train will go from 0 to 394\n",
    "train = df[:train_size]"
   ]
  },
  {
   "cell_type": "code",
   "execution_count": 12,
   "id": "332a89e6",
   "metadata": {},
   "outputs": [],
   "source": [
    "# validate will go from 394 to 630\n",
    "validate = df[train_size:validate_end_index]"
   ]
  },
  {
   "cell_type": "code",
   "execution_count": 13,
   "id": "f4daa311",
   "metadata": {},
   "outputs": [
    {
     "data": {
      "text/html": [
       "<div>\n",
       "<style scoped>\n",
       "    .dataframe tbody tr th:only-of-type {\n",
       "        vertical-align: middle;\n",
       "    }\n",
       "\n",
       "    .dataframe tbody tr th {\n",
       "        vertical-align: top;\n",
       "    }\n",
       "\n",
       "    .dataframe thead th {\n",
       "        text-align: right;\n",
       "    }\n",
       "</style>\n",
       "<table border=\"1\" class=\"dataframe\">\n",
       "  <thead>\n",
       "    <tr style=\"text-align: right;\">\n",
       "      <th></th>\n",
       "      <th>year</th>\n",
       "      <th>month</th>\n",
       "      <th>all_items_value</th>\n",
       "      <th>all_items_ monthly_change</th>\n",
       "      <th>apparel_value</th>\n",
       "      <th>apparel_monthly_change</th>\n",
       "      <th>energy_value</th>\n",
       "      <th>energy_monthly_change</th>\n",
       "      <th>food_value</th>\n",
       "      <th>food_monthly_change</th>\n",
       "      <th>gas_value</th>\n",
       "      <th>gas_monthly_change</th>\n",
       "      <th>medical_value</th>\n",
       "      <th>medical_monthly_change</th>\n",
       "      <th>transportation_value</th>\n",
       "      <th>transportation_monthly_change</th>\n",
       "    </tr>\n",
       "    <tr>\n",
       "      <th>label</th>\n",
       "      <th></th>\n",
       "      <th></th>\n",
       "      <th></th>\n",
       "      <th></th>\n",
       "      <th></th>\n",
       "      <th></th>\n",
       "      <th></th>\n",
       "      <th></th>\n",
       "      <th></th>\n",
       "      <th></th>\n",
       "      <th></th>\n",
       "      <th></th>\n",
       "      <th></th>\n",
       "      <th></th>\n",
       "      <th></th>\n",
       "      <th></th>\n",
       "    </tr>\n",
       "  </thead>\n",
       "  <tbody>\n",
       "    <tr>\n",
       "      <th>1989-06-01</th>\n",
       "      <td>1970</td>\n",
       "      <td>06</td>\n",
       "      <td>124.1</td>\n",
       "      <td>0.3</td>\n",
       "      <td>118.7</td>\n",
       "      <td>-0.2</td>\n",
       "      <td>96.9</td>\n",
       "      <td>-0.5</td>\n",
       "      <td>125.1</td>\n",
       "      <td>0.3</td>\n",
       "      <td>94.0</td>\n",
       "      <td>-1.9</td>\n",
       "      <td>148.1</td>\n",
       "      <td>0.7</td>\n",
       "      <td>136.0</td>\n",
       "      <td>0.5</td>\n",
       "    </tr>\n",
       "    <tr>\n",
       "      <th>1989-07-01</th>\n",
       "      <td>1970</td>\n",
       "      <td>07</td>\n",
       "      <td>124.5</td>\n",
       "      <td>0.3</td>\n",
       "      <td>118.3</td>\n",
       "      <td>-0.3</td>\n",
       "      <td>96.7</td>\n",
       "      <td>-0.2</td>\n",
       "      <td>125.6</td>\n",
       "      <td>0.4</td>\n",
       "      <td>93.2</td>\n",
       "      <td>-0.9</td>\n",
       "      <td>149.2</td>\n",
       "      <td>0.7</td>\n",
       "      <td>136.1</td>\n",
       "      <td>0.1</td>\n",
       "    </tr>\n",
       "    <tr>\n",
       "      <th>1989-08-01</th>\n",
       "      <td>1970</td>\n",
       "      <td>08</td>\n",
       "      <td>124.5</td>\n",
       "      <td>0.0</td>\n",
       "      <td>117.1</td>\n",
       "      <td>-1.0</td>\n",
       "      <td>94.9</td>\n",
       "      <td>-1.9</td>\n",
       "      <td>125.9</td>\n",
       "      <td>0.2</td>\n",
       "      <td>89.1</td>\n",
       "      <td>-4.4</td>\n",
       "      <td>150.3</td>\n",
       "      <td>0.7</td>\n",
       "      <td>136.6</td>\n",
       "      <td>0.4</td>\n",
       "    </tr>\n",
       "    <tr>\n",
       "      <th>1989-09-01</th>\n",
       "      <td>1970</td>\n",
       "      <td>09</td>\n",
       "      <td>124.8</td>\n",
       "      <td>0.2</td>\n",
       "      <td>118.7</td>\n",
       "      <td>1.4</td>\n",
       "      <td>93.8</td>\n",
       "      <td>-1.2</td>\n",
       "      <td>126.3</td>\n",
       "      <td>0.3</td>\n",
       "      <td>87.0</td>\n",
       "      <td>-2.4</td>\n",
       "      <td>151.4</td>\n",
       "      <td>0.7</td>\n",
       "      <td>137.0</td>\n",
       "      <td>0.3</td>\n",
       "    </tr>\n",
       "    <tr>\n",
       "      <th>1989-10-01</th>\n",
       "      <td>1970</td>\n",
       "      <td>10</td>\n",
       "      <td>125.4</td>\n",
       "      <td>0.5</td>\n",
       "      <td>119.6</td>\n",
       "      <td>0.8</td>\n",
       "      <td>94.4</td>\n",
       "      <td>0.6</td>\n",
       "      <td>126.8</td>\n",
       "      <td>0.4</td>\n",
       "      <td>87.8</td>\n",
       "      <td>0.9</td>\n",
       "      <td>152.4</td>\n",
       "      <td>0.7</td>\n",
       "      <td>137.6</td>\n",
       "      <td>0.4</td>\n",
       "    </tr>\n",
       "  </tbody>\n",
       "</table>\n",
       "</div>"
      ],
      "text/plain": [
       "            year month  all_items_value  all_items_ monthly_change  \\\n",
       "label                                                                \n",
       "1989-06-01  1970    06            124.1                        0.3   \n",
       "1989-07-01  1970    07            124.5                        0.3   \n",
       "1989-08-01  1970    08            124.5                        0.0   \n",
       "1989-09-01  1970    09            124.8                        0.2   \n",
       "1989-10-01  1970    10            125.4                        0.5   \n",
       "\n",
       "            apparel_value  apparel_monthly_change  energy_value  \\\n",
       "label                                                             \n",
       "1989-06-01          118.7                    -0.2          96.9   \n",
       "1989-07-01          118.3                    -0.3          96.7   \n",
       "1989-08-01          117.1                    -1.0          94.9   \n",
       "1989-09-01          118.7                     1.4          93.8   \n",
       "1989-10-01          119.6                     0.8          94.4   \n",
       "\n",
       "            energy_monthly_change  food_value  food_monthly_change  gas_value  \\\n",
       "label                                                                           \n",
       "1989-06-01                   -0.5       125.1                  0.3       94.0   \n",
       "1989-07-01                   -0.2       125.6                  0.4       93.2   \n",
       "1989-08-01                   -1.9       125.9                  0.2       89.1   \n",
       "1989-09-01                   -1.2       126.3                  0.3       87.0   \n",
       "1989-10-01                    0.6       126.8                  0.4       87.8   \n",
       "\n",
       "            gas_monthly_change  medical_value  medical_monthly_change  \\\n",
       "label                                                                   \n",
       "1989-06-01                -1.9          148.1                     0.7   \n",
       "1989-07-01                -0.9          149.2                     0.7   \n",
       "1989-08-01                -4.4          150.3                     0.7   \n",
       "1989-09-01                -2.4          151.4                     0.7   \n",
       "1989-10-01                 0.9          152.4                     0.7   \n",
       "\n",
       "            transportation_value  transportation_monthly_change  \n",
       "label                                                            \n",
       "1989-06-01                 136.0                            0.5  \n",
       "1989-07-01                 136.1                            0.1  \n",
       "1989-08-01                 136.6                            0.4  \n",
       "1989-09-01                 137.0                            0.3  \n",
       "1989-10-01                 137.6                            0.4  "
      ]
     },
     "execution_count": 13,
     "metadata": {},
     "output_type": "execute_result"
    }
   ],
   "source": [
    "# Checking if tail of train match with validate head\n",
    "train.tail()"
   ]
  },
  {
   "cell_type": "code",
   "execution_count": 14,
   "id": "3b6687ca",
   "metadata": {},
   "outputs": [
    {
     "data": {
      "text/html": [
       "<div>\n",
       "<style scoped>\n",
       "    .dataframe tbody tr th:only-of-type {\n",
       "        vertical-align: middle;\n",
       "    }\n",
       "\n",
       "    .dataframe tbody tr th {\n",
       "        vertical-align: top;\n",
       "    }\n",
       "\n",
       "    .dataframe thead th {\n",
       "        text-align: right;\n",
       "    }\n",
       "</style>\n",
       "<table border=\"1\" class=\"dataframe\">\n",
       "  <thead>\n",
       "    <tr style=\"text-align: right;\">\n",
       "      <th></th>\n",
       "      <th>year</th>\n",
       "      <th>month</th>\n",
       "      <th>all_items_value</th>\n",
       "      <th>all_items_ monthly_change</th>\n",
       "      <th>apparel_value</th>\n",
       "      <th>apparel_monthly_change</th>\n",
       "      <th>energy_value</th>\n",
       "      <th>energy_monthly_change</th>\n",
       "      <th>food_value</th>\n",
       "      <th>food_monthly_change</th>\n",
       "      <th>gas_value</th>\n",
       "      <th>gas_monthly_change</th>\n",
       "      <th>medical_value</th>\n",
       "      <th>medical_monthly_change</th>\n",
       "      <th>transportation_value</th>\n",
       "      <th>transportation_monthly_change</th>\n",
       "    </tr>\n",
       "    <tr>\n",
       "      <th>label</th>\n",
       "      <th></th>\n",
       "      <th></th>\n",
       "      <th></th>\n",
       "      <th></th>\n",
       "      <th></th>\n",
       "      <th></th>\n",
       "      <th></th>\n",
       "      <th></th>\n",
       "      <th></th>\n",
       "      <th></th>\n",
       "      <th></th>\n",
       "      <th></th>\n",
       "      <th></th>\n",
       "      <th></th>\n",
       "      <th></th>\n",
       "      <th></th>\n",
       "    </tr>\n",
       "  </thead>\n",
       "  <tbody>\n",
       "    <tr>\n",
       "      <th>1989-11-01</th>\n",
       "      <td>1970</td>\n",
       "      <td>11</td>\n",
       "      <td>125.9</td>\n",
       "      <td>0.4</td>\n",
       "      <td>120.0</td>\n",
       "      <td>0.3</td>\n",
       "      <td>93.9</td>\n",
       "      <td>-0.5</td>\n",
       "      <td>127.4</td>\n",
       "      <td>0.5</td>\n",
       "      <td>86.1</td>\n",
       "      <td>-1.9</td>\n",
       "      <td>153.7</td>\n",
       "      <td>0.9</td>\n",
       "      <td>137.6</td>\n",
       "      <td>0.0</td>\n",
       "    </tr>\n",
       "    <tr>\n",
       "      <th>1989-12-01</th>\n",
       "      <td>1970</td>\n",
       "      <td>12</td>\n",
       "      <td>126.3</td>\n",
       "      <td>0.3</td>\n",
       "      <td>119.8</td>\n",
       "      <td>-0.2</td>\n",
       "      <td>94.2</td>\n",
       "      <td>0.3</td>\n",
       "      <td>127.8</td>\n",
       "      <td>0.3</td>\n",
       "      <td>86.0</td>\n",
       "      <td>-0.1</td>\n",
       "      <td>154.6</td>\n",
       "      <td>0.6</td>\n",
       "      <td>138.1</td>\n",
       "      <td>0.4</td>\n",
       "    </tr>\n",
       "    <tr>\n",
       "      <th>1990-01-01</th>\n",
       "      <td>1970</td>\n",
       "      <td>01</td>\n",
       "      <td>127.5</td>\n",
       "      <td>1.0</td>\n",
       "      <td>119.9</td>\n",
       "      <td>0.1</td>\n",
       "      <td>98.9</td>\n",
       "      <td>5.0</td>\n",
       "      <td>129.7</td>\n",
       "      <td>1.5</td>\n",
       "      <td>92.9</td>\n",
       "      <td>8.0</td>\n",
       "      <td>155.7</td>\n",
       "      <td>0.7</td>\n",
       "      <td>139.2</td>\n",
       "      <td>0.8</td>\n",
       "    </tr>\n",
       "    <tr>\n",
       "      <th>1990-02-01</th>\n",
       "      <td>1970</td>\n",
       "      <td>02</td>\n",
       "      <td>128.0</td>\n",
       "      <td>0.4</td>\n",
       "      <td>122.0</td>\n",
       "      <td>1.8</td>\n",
       "      <td>98.2</td>\n",
       "      <td>-0.7</td>\n",
       "      <td>130.8</td>\n",
       "      <td>0.8</td>\n",
       "      <td>93.0</td>\n",
       "      <td>0.1</td>\n",
       "      <td>156.7</td>\n",
       "      <td>0.6</td>\n",
       "      <td>140.1</td>\n",
       "      <td>0.6</td>\n",
       "    </tr>\n",
       "    <tr>\n",
       "      <th>1990-03-01</th>\n",
       "      <td>1970</td>\n",
       "      <td>03</td>\n",
       "      <td>128.6</td>\n",
       "      <td>0.5</td>\n",
       "      <td>123.8</td>\n",
       "      <td>1.5</td>\n",
       "      <td>97.6</td>\n",
       "      <td>-0.6</td>\n",
       "      <td>131.0</td>\n",
       "      <td>0.2</td>\n",
       "      <td>92.3</td>\n",
       "      <td>-0.8</td>\n",
       "      <td>158.0</td>\n",
       "      <td>0.8</td>\n",
       "      <td>141.1</td>\n",
       "      <td>0.7</td>\n",
       "    </tr>\n",
       "  </tbody>\n",
       "</table>\n",
       "</div>"
      ],
      "text/plain": [
       "            year month  all_items_value  all_items_ monthly_change  \\\n",
       "label                                                                \n",
       "1989-11-01  1970    11            125.9                        0.4   \n",
       "1989-12-01  1970    12            126.3                        0.3   \n",
       "1990-01-01  1970    01            127.5                        1.0   \n",
       "1990-02-01  1970    02            128.0                        0.4   \n",
       "1990-03-01  1970    03            128.6                        0.5   \n",
       "\n",
       "            apparel_value  apparel_monthly_change  energy_value  \\\n",
       "label                                                             \n",
       "1989-11-01          120.0                     0.3          93.9   \n",
       "1989-12-01          119.8                    -0.2          94.2   \n",
       "1990-01-01          119.9                     0.1          98.9   \n",
       "1990-02-01          122.0                     1.8          98.2   \n",
       "1990-03-01          123.8                     1.5          97.6   \n",
       "\n",
       "            energy_monthly_change  food_value  food_monthly_change  gas_value  \\\n",
       "label                                                                           \n",
       "1989-11-01                   -0.5       127.4                  0.5       86.1   \n",
       "1989-12-01                    0.3       127.8                  0.3       86.0   \n",
       "1990-01-01                    5.0       129.7                  1.5       92.9   \n",
       "1990-02-01                   -0.7       130.8                  0.8       93.0   \n",
       "1990-03-01                   -0.6       131.0                  0.2       92.3   \n",
       "\n",
       "            gas_monthly_change  medical_value  medical_monthly_change  \\\n",
       "label                                                                   \n",
       "1989-11-01                -1.9          153.7                     0.9   \n",
       "1989-12-01                -0.1          154.6                     0.6   \n",
       "1990-01-01                 8.0          155.7                     0.7   \n",
       "1990-02-01                 0.1          156.7                     0.6   \n",
       "1990-03-01                -0.8          158.0                     0.8   \n",
       "\n",
       "            transportation_value  transportation_monthly_change  \n",
       "label                                                            \n",
       "1989-11-01                 137.6                            0.0  \n",
       "1989-12-01                 138.1                            0.4  \n",
       "1990-01-01                 139.2                            0.8  \n",
       "1990-02-01                 140.1                            0.6  \n",
       "1990-03-01                 141.1                            0.7  "
      ]
     },
     "execution_count": 14,
     "metadata": {},
     "output_type": "execute_result"
    }
   ],
   "source": [
    "validate.head()"
   ]
  },
  {
   "cell_type": "code",
   "execution_count": 15,
   "id": "274d8fbd",
   "metadata": {},
   "outputs": [
    {
     "data": {
      "text/html": [
       "<div>\n",
       "<style scoped>\n",
       "    .dataframe tbody tr th:only-of-type {\n",
       "        vertical-align: middle;\n",
       "    }\n",
       "\n",
       "    .dataframe tbody tr th {\n",
       "        vertical-align: top;\n",
       "    }\n",
       "\n",
       "    .dataframe thead th {\n",
       "        text-align: right;\n",
       "    }\n",
       "</style>\n",
       "<table border=\"1\" class=\"dataframe\">\n",
       "  <thead>\n",
       "    <tr style=\"text-align: right;\">\n",
       "      <th></th>\n",
       "      <th>year</th>\n",
       "      <th>month</th>\n",
       "      <th>all_items_value</th>\n",
       "      <th>all_items_ monthly_change</th>\n",
       "      <th>apparel_value</th>\n",
       "      <th>apparel_monthly_change</th>\n",
       "      <th>energy_value</th>\n",
       "      <th>energy_monthly_change</th>\n",
       "      <th>food_value</th>\n",
       "      <th>food_monthly_change</th>\n",
       "      <th>gas_value</th>\n",
       "      <th>gas_monthly_change</th>\n",
       "      <th>medical_value</th>\n",
       "      <th>medical_monthly_change</th>\n",
       "      <th>transportation_value</th>\n",
       "      <th>transportation_monthly_change</th>\n",
       "    </tr>\n",
       "    <tr>\n",
       "      <th>label</th>\n",
       "      <th></th>\n",
       "      <th></th>\n",
       "      <th></th>\n",
       "      <th></th>\n",
       "      <th></th>\n",
       "      <th></th>\n",
       "      <th></th>\n",
       "      <th></th>\n",
       "      <th></th>\n",
       "      <th></th>\n",
       "      <th></th>\n",
       "      <th></th>\n",
       "      <th></th>\n",
       "      <th></th>\n",
       "      <th></th>\n",
       "      <th></th>\n",
       "    </tr>\n",
       "  </thead>\n",
       "  <tbody>\n",
       "    <tr>\n",
       "      <th>2009-02-01</th>\n",
       "      <td>1970</td>\n",
       "      <td>02</td>\n",
       "      <td>212.705</td>\n",
       "      <td>0.4</td>\n",
       "      <td>119.888</td>\n",
       "      <td>1.6</td>\n",
       "      <td>183.721</td>\n",
       "      <td>2.8</td>\n",
       "      <td>218.949</td>\n",
       "      <td>-0.1</td>\n",
       "      <td>174.067</td>\n",
       "      <td>8.2</td>\n",
       "      <td>392.266</td>\n",
       "      <td>0.2</td>\n",
       "      <td>248.703</td>\n",
       "      <td>0.4</td>\n",
       "    </tr>\n",
       "    <tr>\n",
       "      <th>2009-03-01</th>\n",
       "      <td>1970</td>\n",
       "      <td>03</td>\n",
       "      <td>212.495</td>\n",
       "      <td>-0.1</td>\n",
       "      <td>120.368</td>\n",
       "      <td>0.4</td>\n",
       "      <td>178.415</td>\n",
       "      <td>-2.9</td>\n",
       "      <td>218.510</td>\n",
       "      <td>-0.2</td>\n",
       "      <td>166.814</td>\n",
       "      <td>-4.2</td>\n",
       "      <td>393.285</td>\n",
       "      <td>0.3</td>\n",
       "      <td>248.454</td>\n",
       "      <td>-0.1</td>\n",
       "    </tr>\n",
       "    <tr>\n",
       "      <th>2009-04-01</th>\n",
       "      <td>1970</td>\n",
       "      <td>04</td>\n",
       "      <td>212.709</td>\n",
       "      <td>0.1</td>\n",
       "      <td>120.182</td>\n",
       "      <td>-0.2</td>\n",
       "      <td>177.552</td>\n",
       "      <td>-0.5</td>\n",
       "      <td>218.175</td>\n",
       "      <td>-0.2</td>\n",
       "      <td>168.312</td>\n",
       "      <td>0.9</td>\n",
       "      <td>394.700</td>\n",
       "      <td>0.4</td>\n",
       "      <td>249.081</td>\n",
       "      <td>0.3</td>\n",
       "    </tr>\n",
       "    <tr>\n",
       "      <th>2009-05-01</th>\n",
       "      <td>1970</td>\n",
       "      <td>05</td>\n",
       "      <td>213.022</td>\n",
       "      <td>0.1</td>\n",
       "      <td>120.038</td>\n",
       "      <td>-0.1</td>\n",
       "      <td>179.830</td>\n",
       "      <td>1.3</td>\n",
       "      <td>217.813</td>\n",
       "      <td>-0.2</td>\n",
       "      <td>177.057</td>\n",
       "      <td>5.2</td>\n",
       "      <td>395.999</td>\n",
       "      <td>0.3</td>\n",
       "      <td>248.895</td>\n",
       "      <td>-0.1</td>\n",
       "    </tr>\n",
       "    <tr>\n",
       "      <th>2009-06-01</th>\n",
       "      <td>1970</td>\n",
       "      <td>06</td>\n",
       "      <td>214.790</td>\n",
       "      <td>0.8</td>\n",
       "      <td>120.276</td>\n",
       "      <td>0.2</td>\n",
       "      <td>197.033</td>\n",
       "      <td>9.6</td>\n",
       "      <td>217.813</td>\n",
       "      <td>0.0</td>\n",
       "      <td>213.086</td>\n",
       "      <td>20.3</td>\n",
       "      <td>396.799</td>\n",
       "      <td>0.2</td>\n",
       "      <td>248.503</td>\n",
       "      <td>-0.2</td>\n",
       "    </tr>\n",
       "  </tbody>\n",
       "</table>\n",
       "</div>"
      ],
      "text/plain": [
       "            year month  all_items_value  all_items_ monthly_change  \\\n",
       "label                                                                \n",
       "2009-02-01  1970    02          212.705                        0.4   \n",
       "2009-03-01  1970    03          212.495                       -0.1   \n",
       "2009-04-01  1970    04          212.709                        0.1   \n",
       "2009-05-01  1970    05          213.022                        0.1   \n",
       "2009-06-01  1970    06          214.790                        0.8   \n",
       "\n",
       "            apparel_value  apparel_monthly_change  energy_value  \\\n",
       "label                                                             \n",
       "2009-02-01        119.888                     1.6       183.721   \n",
       "2009-03-01        120.368                     0.4       178.415   \n",
       "2009-04-01        120.182                    -0.2       177.552   \n",
       "2009-05-01        120.038                    -0.1       179.830   \n",
       "2009-06-01        120.276                     0.2       197.033   \n",
       "\n",
       "            energy_monthly_change  food_value  food_monthly_change  gas_value  \\\n",
       "label                                                                           \n",
       "2009-02-01                    2.8     218.949                 -0.1    174.067   \n",
       "2009-03-01                   -2.9     218.510                 -0.2    166.814   \n",
       "2009-04-01                   -0.5     218.175                 -0.2    168.312   \n",
       "2009-05-01                    1.3     217.813                 -0.2    177.057   \n",
       "2009-06-01                    9.6     217.813                  0.0    213.086   \n",
       "\n",
       "            gas_monthly_change  medical_value  medical_monthly_change  \\\n",
       "label                                                                   \n",
       "2009-02-01                 8.2        392.266                     0.2   \n",
       "2009-03-01                -4.2        393.285                     0.3   \n",
       "2009-04-01                 0.9        394.700                     0.4   \n",
       "2009-05-01                 5.2        395.999                     0.3   \n",
       "2009-06-01                20.3        396.799                     0.2   \n",
       "\n",
       "            transportation_value  transportation_monthly_change  \n",
       "label                                                            \n",
       "2009-02-01               248.703                            0.4  \n",
       "2009-03-01               248.454                           -0.1  \n",
       "2009-04-01               249.081                            0.3  \n",
       "2009-05-01               248.895                           -0.1  \n",
       "2009-06-01               248.503                           -0.2  "
      ]
     },
     "execution_count": 15,
     "metadata": {},
     "output_type": "execute_result"
    }
   ],
   "source": [
    "# Checking if tail of validate match with test head\n",
    "validate.tail()"
   ]
  },
  {
   "cell_type": "code",
   "execution_count": 16,
   "id": "daf570dc",
   "metadata": {},
   "outputs": [],
   "source": [
    "# test will include 631 to the end\n",
    "test = df[validate_end_index:]"
   ]
  },
  {
   "cell_type": "code",
   "execution_count": 17,
   "id": "147bb105",
   "metadata": {},
   "outputs": [
    {
     "data": {
      "text/html": [
       "<div>\n",
       "<style scoped>\n",
       "    .dataframe tbody tr th:only-of-type {\n",
       "        vertical-align: middle;\n",
       "    }\n",
       "\n",
       "    .dataframe tbody tr th {\n",
       "        vertical-align: top;\n",
       "    }\n",
       "\n",
       "    .dataframe thead th {\n",
       "        text-align: right;\n",
       "    }\n",
       "</style>\n",
       "<table border=\"1\" class=\"dataframe\">\n",
       "  <thead>\n",
       "    <tr style=\"text-align: right;\">\n",
       "      <th></th>\n",
       "      <th>year</th>\n",
       "      <th>month</th>\n",
       "      <th>all_items_value</th>\n",
       "      <th>all_items_ monthly_change</th>\n",
       "      <th>apparel_value</th>\n",
       "      <th>apparel_monthly_change</th>\n",
       "      <th>energy_value</th>\n",
       "      <th>energy_monthly_change</th>\n",
       "      <th>food_value</th>\n",
       "      <th>food_monthly_change</th>\n",
       "      <th>gas_value</th>\n",
       "      <th>gas_monthly_change</th>\n",
       "      <th>medical_value</th>\n",
       "      <th>medical_monthly_change</th>\n",
       "      <th>transportation_value</th>\n",
       "      <th>transportation_monthly_change</th>\n",
       "    </tr>\n",
       "    <tr>\n",
       "      <th>label</th>\n",
       "      <th></th>\n",
       "      <th></th>\n",
       "      <th></th>\n",
       "      <th></th>\n",
       "      <th></th>\n",
       "      <th></th>\n",
       "      <th></th>\n",
       "      <th></th>\n",
       "      <th></th>\n",
       "      <th></th>\n",
       "      <th></th>\n",
       "      <th></th>\n",
       "      <th></th>\n",
       "      <th></th>\n",
       "      <th></th>\n",
       "      <th></th>\n",
       "    </tr>\n",
       "  </thead>\n",
       "  <tbody>\n",
       "    <tr>\n",
       "      <th>2009-07-01</th>\n",
       "      <td>1970</td>\n",
       "      <td>07</td>\n",
       "      <td>214.726</td>\n",
       "      <td>0.0</td>\n",
       "      <td>119.984</td>\n",
       "      <td>-0.2</td>\n",
       "      <td>195.778</td>\n",
       "      <td>-0.6</td>\n",
       "      <td>217.387</td>\n",
       "      <td>-0.2</td>\n",
       "      <td>211.649</td>\n",
       "      <td>-0.7</td>\n",
       "      <td>398.036</td>\n",
       "      <td>0.3</td>\n",
       "      <td>250.113</td>\n",
       "      <td>0.6</td>\n",
       "    </tr>\n",
       "    <tr>\n",
       "      <th>2009-08-01</th>\n",
       "      <td>1970</td>\n",
       "      <td>08</td>\n",
       "      <td>215.445</td>\n",
       "      <td>0.3</td>\n",
       "      <td>120.236</td>\n",
       "      <td>0.2</td>\n",
       "      <td>201.583</td>\n",
       "      <td>3.0</td>\n",
       "      <td>217.376</td>\n",
       "      <td>0.0</td>\n",
       "      <td>223.781</td>\n",
       "      <td>5.7</td>\n",
       "      <td>398.919</td>\n",
       "      <td>0.2</td>\n",
       "      <td>251.503</td>\n",
       "      <td>0.6</td>\n",
       "    </tr>\n",
       "    <tr>\n",
       "      <th>2009-09-01</th>\n",
       "      <td>1970</td>\n",
       "      <td>09</td>\n",
       "      <td>215.861</td>\n",
       "      <td>0.2</td>\n",
       "      <td>120.779</td>\n",
       "      <td>0.5</td>\n",
       "      <td>202.777</td>\n",
       "      <td>0.6</td>\n",
       "      <td>217.258</td>\n",
       "      <td>-0.1</td>\n",
       "      <td>226.214</td>\n",
       "      <td>1.1</td>\n",
       "      <td>399.902</td>\n",
       "      <td>0.2</td>\n",
       "      <td>253.010</td>\n",
       "      <td>0.6</td>\n",
       "    </tr>\n",
       "    <tr>\n",
       "      <th>2009-10-01</th>\n",
       "      <td>1970</td>\n",
       "      <td>10</td>\n",
       "      <td>216.509</td>\n",
       "      <td>0.3</td>\n",
       "      <td>120.500</td>\n",
       "      <td>-0.2</td>\n",
       "      <td>204.719</td>\n",
       "      <td>1.0</td>\n",
       "      <td>217.452</td>\n",
       "      <td>0.1</td>\n",
       "      <td>228.651</td>\n",
       "      <td>1.1</td>\n",
       "      <td>400.792</td>\n",
       "      <td>0.2</td>\n",
       "      <td>254.501</td>\n",
       "      <td>0.6</td>\n",
       "    </tr>\n",
       "    <tr>\n",
       "      <th>2009-11-01</th>\n",
       "      <td>1970</td>\n",
       "      <td>11</td>\n",
       "      <td>217.234</td>\n",
       "      <td>0.3</td>\n",
       "      <td>120.007</td>\n",
       "      <td>-0.4</td>\n",
       "      <td>210.932</td>\n",
       "      <td>3.0</td>\n",
       "      <td>217.581</td>\n",
       "      <td>0.1</td>\n",
       "      <td>238.246</td>\n",
       "      <td>4.2</td>\n",
       "      <td>402.295</td>\n",
       "      <td>0.4</td>\n",
       "      <td>255.701</td>\n",
       "      <td>0.5</td>\n",
       "    </tr>\n",
       "  </tbody>\n",
       "</table>\n",
       "</div>"
      ],
      "text/plain": [
       "            year month  all_items_value  all_items_ monthly_change  \\\n",
       "label                                                                \n",
       "2009-07-01  1970    07          214.726                        0.0   \n",
       "2009-08-01  1970    08          215.445                        0.3   \n",
       "2009-09-01  1970    09          215.861                        0.2   \n",
       "2009-10-01  1970    10          216.509                        0.3   \n",
       "2009-11-01  1970    11          217.234                        0.3   \n",
       "\n",
       "            apparel_value  apparel_monthly_change  energy_value  \\\n",
       "label                                                             \n",
       "2009-07-01        119.984                    -0.2       195.778   \n",
       "2009-08-01        120.236                     0.2       201.583   \n",
       "2009-09-01        120.779                     0.5       202.777   \n",
       "2009-10-01        120.500                    -0.2       204.719   \n",
       "2009-11-01        120.007                    -0.4       210.932   \n",
       "\n",
       "            energy_monthly_change  food_value  food_monthly_change  gas_value  \\\n",
       "label                                                                           \n",
       "2009-07-01                   -0.6     217.387                 -0.2    211.649   \n",
       "2009-08-01                    3.0     217.376                  0.0    223.781   \n",
       "2009-09-01                    0.6     217.258                 -0.1    226.214   \n",
       "2009-10-01                    1.0     217.452                  0.1    228.651   \n",
       "2009-11-01                    3.0     217.581                  0.1    238.246   \n",
       "\n",
       "            gas_monthly_change  medical_value  medical_monthly_change  \\\n",
       "label                                                                   \n",
       "2009-07-01                -0.7        398.036                     0.3   \n",
       "2009-08-01                 5.7        398.919                     0.2   \n",
       "2009-09-01                 1.1        399.902                     0.2   \n",
       "2009-10-01                 1.1        400.792                     0.2   \n",
       "2009-11-01                 4.2        402.295                     0.4   \n",
       "\n",
       "            transportation_value  transportation_monthly_change  \n",
       "label                                                            \n",
       "2009-07-01               250.113                            0.6  \n",
       "2009-08-01               251.503                            0.6  \n",
       "2009-09-01               253.010                            0.6  \n",
       "2009-10-01               254.501                            0.6  \n",
       "2009-11-01               255.701                            0.5  "
      ]
     },
     "execution_count": 17,
     "metadata": {},
     "output_type": "execute_result"
    }
   ],
   "source": [
    "test.head()"
   ]
  },
  {
   "cell_type": "code",
   "execution_count": 18,
   "id": "88f6eb64",
   "metadata": {},
   "outputs": [
    {
     "data": {
      "text/plain": [
       "(394, 236, 157)"
      ]
     },
     "execution_count": 18,
     "metadata": {},
     "output_type": "execute_result"
    }
   ],
   "source": [
    "# Checking shape again\n",
    "train.shape[0], validate.shape[0], test.shape[0]"
   ]
  },
  {
   "cell_type": "code",
   "execution_count": 19,
   "id": "cdc18e7e",
   "metadata": {},
   "outputs": [
    {
     "data": {
      "text/plain": [
       "<AxesSubplot:xlabel='label', ylabel='all_items_value'>"
      ]
     },
     "execution_count": 19,
     "metadata": {},
     "output_type": "execute_result"
    },
    {
     "data": {
      "image/png": "[encoded data removed]",
      "text/plain": [
       "<Figure size 1152x576 with 1 Axes>"
      ]
     },
     "metadata": {
      "needs_background": "light"
     },
     "output_type": "display_data"
    }
   ],
   "source": [
    "# Visualizing how data is split through time\n",
    "plt.figure(figsize = (16,8))\n",
    "sns.lineplot(train.index, train.all_items_value, color = '#7FD5EE')\n",
    "sns.lineplot(validate.index, validate.all_items_value)\n",
    "sns.lineplot(test.index, test.all_items_value, color = '#003342')"
   ]
  },
  {
   "cell_type": "markdown",
   "id": "da1dc920",
   "metadata": {},
   "source": [
    "***"
   ]
  },
  {
   "cell_type": "markdown",
   "id": "6234063e",
   "metadata": {},
   "source": [
    "# Exploratory Data Analysis (EDA)"
   ]
  },
  {
   "cell_type": "code",
   "execution_count": 20,
   "id": "02034e48",
   "metadata": {},
   "outputs": [
    {
     "data": {
      "text/html": [
       "<div>\n",
       "<style scoped>\n",
       "    .dataframe tbody tr th:only-of-type {\n",
       "        vertical-align: middle;\n",
       "    }\n",
       "\n",
       "    .dataframe tbody tr th {\n",
       "        vertical-align: top;\n",
       "    }\n",
       "\n",
       "    .dataframe thead th {\n",
       "        text-align: right;\n",
       "    }\n",
       "</style>\n",
       "<table border=\"1\" class=\"dataframe\">\n",
       "  <thead>\n",
       "    <tr style=\"text-align: right;\">\n",
       "      <th></th>\n",
       "      <th>year</th>\n",
       "      <th>month</th>\n",
       "      <th>all_items_value</th>\n",
       "      <th>all_items_ monthly_change</th>\n",
       "      <th>apparel_value</th>\n",
       "      <th>apparel_monthly_change</th>\n",
       "      <th>energy_value</th>\n",
       "      <th>energy_monthly_change</th>\n",
       "      <th>food_value</th>\n",
       "      <th>food_monthly_change</th>\n",
       "      <th>gas_value</th>\n",
       "      <th>gas_monthly_change</th>\n",
       "      <th>medical_value</th>\n",
       "      <th>medical_monthly_change</th>\n",
       "      <th>transportation_value</th>\n",
       "      <th>transportation_monthly_change</th>\n",
       "    </tr>\n",
       "    <tr>\n",
       "      <th>label</th>\n",
       "      <th></th>\n",
       "      <th></th>\n",
       "      <th></th>\n",
       "      <th></th>\n",
       "      <th></th>\n",
       "      <th></th>\n",
       "      <th></th>\n",
       "      <th></th>\n",
       "      <th></th>\n",
       "      <th></th>\n",
       "      <th></th>\n",
       "      <th></th>\n",
       "      <th></th>\n",
       "      <th></th>\n",
       "      <th></th>\n",
       "      <th></th>\n",
       "    </tr>\n",
       "  </thead>\n",
       "  <tbody>\n",
       "    <tr>\n",
       "      <th>1957-01-01</th>\n",
       "      <td>1970</td>\n",
       "      <td>01</td>\n",
       "      <td>27.67</td>\n",
       "      <td>0.1</td>\n",
       "      <td>44.3</td>\n",
       "      <td>0.0</td>\n",
       "      <td>21.3</td>\n",
       "      <td>0.0</td>\n",
       "      <td>28.4</td>\n",
       "      <td>-0.4</td>\n",
       "      <td>NaN</td>\n",
       "      <td>NaN</td>\n",
       "      <td>16.7</td>\n",
       "      <td>0.6</td>\n",
       "      <td>23.5</td>\n",
       "      <td>0.9</td>\n",
       "    </tr>\n",
       "    <tr>\n",
       "      <th>1957-02-01</th>\n",
       "      <td>1970</td>\n",
       "      <td>02</td>\n",
       "      <td>27.80</td>\n",
       "      <td>0.5</td>\n",
       "      <td>44.3</td>\n",
       "      <td>0.0</td>\n",
       "      <td>21.4</td>\n",
       "      <td>0.5</td>\n",
       "      <td>28.7</td>\n",
       "      <td>1.1</td>\n",
       "      <td>NaN</td>\n",
       "      <td>NaN</td>\n",
       "      <td>16.7</td>\n",
       "      <td>0.0</td>\n",
       "      <td>23.7</td>\n",
       "      <td>0.9</td>\n",
       "    </tr>\n",
       "    <tr>\n",
       "      <th>1957-03-01</th>\n",
       "      <td>1970</td>\n",
       "      <td>03</td>\n",
       "      <td>27.86</td>\n",
       "      <td>0.2</td>\n",
       "      <td>44.5</td>\n",
       "      <td>0.5</td>\n",
       "      <td>21.5</td>\n",
       "      <td>0.5</td>\n",
       "      <td>28.6</td>\n",
       "      <td>-0.3</td>\n",
       "      <td>NaN</td>\n",
       "      <td>NaN</td>\n",
       "      <td>16.8</td>\n",
       "      <td>0.6</td>\n",
       "      <td>23.7</td>\n",
       "      <td>0.0</td>\n",
       "    </tr>\n",
       "    <tr>\n",
       "      <th>1957-04-01</th>\n",
       "      <td>1970</td>\n",
       "      <td>04</td>\n",
       "      <td>27.93</td>\n",
       "      <td>0.3</td>\n",
       "      <td>44.4</td>\n",
       "      <td>-0.2</td>\n",
       "      <td>21.6</td>\n",
       "      <td>0.5</td>\n",
       "      <td>28.6</td>\n",
       "      <td>0.0</td>\n",
       "      <td>NaN</td>\n",
       "      <td>NaN</td>\n",
       "      <td>16.9</td>\n",
       "      <td>0.6</td>\n",
       "      <td>23.8</td>\n",
       "      <td>0.4</td>\n",
       "    </tr>\n",
       "    <tr>\n",
       "      <th>1957-05-01</th>\n",
       "      <td>1970</td>\n",
       "      <td>05</td>\n",
       "      <td>28.00</td>\n",
       "      <td>0.3</td>\n",
       "      <td>44.5</td>\n",
       "      <td>0.2</td>\n",
       "      <td>21.6</td>\n",
       "      <td>0.0</td>\n",
       "      <td>28.7</td>\n",
       "      <td>0.3</td>\n",
       "      <td>NaN</td>\n",
       "      <td>NaN</td>\n",
       "      <td>16.9</td>\n",
       "      <td>0.0</td>\n",
       "      <td>23.9</td>\n",
       "      <td>0.4</td>\n",
       "    </tr>\n",
       "  </tbody>\n",
       "</table>\n",
       "</div>"
      ],
      "text/plain": [
       "            year month  all_items_value  all_items_ monthly_change  \\\n",
       "label                                                                \n",
       "1957-01-01  1970    01            27.67                        0.1   \n",
       "1957-02-01  1970    02            27.80                        0.5   \n",
       "1957-03-01  1970    03            27.86                        0.2   \n",
       "1957-04-01  1970    04            27.93                        0.3   \n",
       "1957-05-01  1970    05            28.00                        0.3   \n",
       "\n",
       "            apparel_value  apparel_monthly_change  energy_value  \\\n",
       "label                                                             \n",
       "1957-01-01           44.3                     0.0          21.3   \n",
       "1957-02-01           44.3                     0.0          21.4   \n",
       "1957-03-01           44.5                     0.5          21.5   \n",
       "1957-04-01           44.4                    -0.2          21.6   \n",
       "1957-05-01           44.5                     0.2          21.6   \n",
       "\n",
       "            energy_monthly_change  food_value  food_monthly_change  gas_value  \\\n",
       "label                                                                           \n",
       "1957-01-01                    0.0        28.4                 -0.4        NaN   \n",
       "1957-02-01                    0.5        28.7                  1.1        NaN   \n",
       "1957-03-01                    0.5        28.6                 -0.3        NaN   \n",
       "1957-04-01                    0.5        28.6                  0.0        NaN   \n",
       "1957-05-01                    0.0        28.7                  0.3        NaN   \n",
       "\n",
       "            gas_monthly_change  medical_value  medical_monthly_change  \\\n",
       "label                                                                   \n",
       "1957-01-01                 NaN           16.7                     0.6   \n",
       "1957-02-01                 NaN           16.7                     0.0   \n",
       "1957-03-01                 NaN           16.8                     0.6   \n",
       "1957-04-01                 NaN           16.9                     0.6   \n",
       "1957-05-01                 NaN           16.9                     0.0   \n",
       "\n",
       "            transportation_value  transportation_monthly_change  \n",
       "label                                                            \n",
       "1957-01-01                  23.5                            0.9  \n",
       "1957-02-01                  23.7                            0.9  \n",
       "1957-03-01                  23.7                            0.0  \n",
       "1957-04-01                  23.8                            0.4  \n",
       "1957-05-01                  23.9                            0.4  "
      ]
     },
     "execution_count": 20,
     "metadata": {},
     "output_type": "execute_result"
    }
   ],
   "source": [
    "train.head()"
   ]
  },
  {
   "cell_type": "markdown",
   "id": "d44c8773",
   "metadata": {},
   "source": [
    "### All Category Price Trend"
   ]
  },
  {
   "cell_type": "code",
   "execution_count": 21,
   "id": "096ff1b1",
   "metadata": {},
   "outputs": [
    {
     "data": {
      "text/plain": [
       "<matplotlib.legend.Legend at 0x7ff5b1d4dcd0>"
      ]
     },
     "execution_count": 21,
     "metadata": {},
     "output_type": "execute_result"
    },
    {
     "data": {
      "image/png": "[encoded data removed]",
      "text/plain": [
       "<Figure size 1296x648 with 1 Axes>"
      ]
     },
     "metadata": {
      "needs_background": "light"
     },
     "output_type": "display_data"
    }
   ],
   "source": [
    "# Visualizing value over time\n",
    "plt.figure(figsize = (18,9))\n",
    "sns.lineplot(x=train.index, y=train.all_items_value, label = 'All items', linewidth = 3, color = '#8a8a8a')\n",
    "sns.lineplot(x=train.index, y=train.apparel_value, label ='Apparel', linewidth = 3, color = '#846353')\n",
    "sns.lineplot(x=train.index, y=train.energy_value, label = 'Energy', linewidth = 3, color = '#5b766f')\n",
    "sns.lineplot(x=train.index, y=train.food_value, label = 'Food', linewidth = 3, color = '#5e6857')\n",
    "sns.lineplot(x=train.index, y=train.gas_value, label = 'Gas', linewidth = 3, color = '#d46c31')\n",
    "sns.lineplot(x=train.index, y=train.medical_value, label = 'Medical', linewidth = 3, color = '#6a9fa6')\n",
    "sns.lineplot(x=train.index, y=train.transportation_value, label = 'Transportation', linewidth = 3, color = '#9a8d91')\n",
    "\n",
    "plt.legend()"
   ]
  },
  {
   "cell_type": "markdown",
   "id": "60e67ff9",
   "metadata": {},
   "source": [
    "### Aggregating by Month"
   ]
  },
  {
   "cell_type": "markdown",
   "id": "0c27a1c8",
   "metadata": {},
   "source": [
    "**Al Items**"
   ]
  },
  {
   "cell_type": "code",
   "execution_count": 22,
   "id": "d5c93a8a",
   "metadata": {},
   "outputs": [
    {
     "data": {
      "image/png": "[encoded data removed]",
      "text/plain": [
       "<Figure size 864x432 with 1 Axes>"
      ]
     },
     "metadata": {
      "needs_background": "light"
     },
     "output_type": "display_data"
    }
   ],
   "source": [
    "plt.figure(figsize = (12,6))\n",
    "ax = train.groupby(train.month).all_items_value.mean().plot.bar(width=.9, ec='black', color = ['#8a8a8a', '#765a61', '#615768', '#3198d3', '#a67169'])\n",
    "plt.xticks(rotation=0)\n",
    "ax.set(title='Average All Items Value by Month', xlabel='Month', ylabel='All Itmes Value')\n",
    "plt.show()"
   ]
  },
  {
   "cell_type": "markdown",
   "id": "8ef13168",
   "metadata": {},
   "source": [
    "**Apparel**"
   ]
  },
  {
   "cell_type": "code",
   "execution_count": 23,
   "id": "09317a93",
   "metadata": {},
   "outputs": [
    {
     "data": {
      "image/png": "[encoded data removed]",
      "text/plain": [
       "<Figure size 864x432 with 1 Axes>"
      ]
     },
     "metadata": {
      "needs_background": "light"
     },
     "output_type": "display_data"
    }
   ],
   "source": [
    "plt.figure(figsize = (12,6))\n",
    "ax = train.groupby(train.month).apparel_value.mean().plot.bar(width=.9, ec='black', color = ['#8a8a8a', '#765a61', '#615768', '#3198d3', '#a67169'])\n",
    "plt.xticks(rotation=0)\n",
    "ax.set(title='Average Apparel Value by Month', xlabel='Month', ylabel='Apparel Value')\n",
    "plt.show()"
   ]
  },
  {
   "cell_type": "markdown",
   "id": "6f31ba18",
   "metadata": {},
   "source": [
    "**Energy**"
   ]
  },
  {
   "cell_type": "code",
   "execution_count": 24,
   "id": "5ae0de97",
   "metadata": {},
   "outputs": [
    {
     "data": {
      "image/png": "[encoded data removed]",
      "text/plain": [
       "<Figure size 864x432 with 1 Axes>"
      ]
     },
     "metadata": {
      "needs_background": "light"
     },
     "output_type": "display_data"
    }
   ],
   "source": [
    "plt.figure(figsize = (12,6))\n",
    "ax = train.groupby(train.month).energy_value.mean().plot.bar(width=.9, ec='black', color = ['#8a8a8a', '#765a61', '#615768', '#3198d3', '#a67169'])\n",
    "plt.xticks(rotation=0)\n",
    "ax.set(title='Average Energy Value by Month', xlabel='Month', ylabel='Energy Value')\n",
    "plt.show()"
   ]
  },
  {
   "cell_type": "markdown",
   "id": "fbe4e302",
   "metadata": {},
   "source": [
    "**Food**"
   ]
  },
  {
   "cell_type": "code",
   "execution_count": 25,
   "id": "acb95d52",
   "metadata": {},
   "outputs": [
    {
     "data": {
      "image/png": "[encoded data removed]",
      "text/plain": [
       "<Figure size 864x432 with 1 Axes>"
      ]
     },
     "metadata": {
      "needs_background": "light"
     },
     "output_type": "display_data"
    }
   ],
   "source": [
    "plt.figure(figsize = (12,6))\n",
    "ax = train.groupby(train.month).food_value.mean().plot.bar(width=.9, ec='black', color = ['#8a8a8a', '#765a61', '#615768', '#3198d3', '#a67169'])\n",
    "plt.xticks(rotation=0)\n",
    "ax.set(title='Average Food Value by Month', xlabel='Month', ylabel='Food Value')\n",
    "plt.show()"
   ]
  },
  {
   "cell_type": "markdown",
   "id": "932c2739",
   "metadata": {},
   "source": [
    "**Gasoline**"
   ]
  },
  {
   "cell_type": "code",
   "execution_count": 26,
   "id": "f05fb245",
   "metadata": {},
   "outputs": [
    {
     "data": {
      "image/png": "[encoded data removed]",
      "text/plain": [
       "<Figure size 864x432 with 1 Axes>"
      ]
     },
     "metadata": {
      "needs_background": "light"
     },
     "output_type": "display_data"
    }
   ],
   "source": [
    "plt.figure(figsize = (12,6))\n",
    "ax = train.groupby(train.month).gas_value.mean().plot.bar(width=.9, ec='black', color = ['#8a8a8a', '#765a61', '#615768', '#3198d3', '#a67169'])\n",
    "plt.xticks(rotation=0)\n",
    "ax.set(title='Average Gas Value by Month', xlabel='Month', ylabel='Gas Value')\n",
    "plt.show()"
   ]
  },
  {
   "cell_type": "markdown",
   "id": "b9583bc2",
   "metadata": {},
   "source": [
    "**Medical**"
   ]
  },
  {
   "cell_type": "code",
   "execution_count": 27,
   "id": "c4ff2680",
   "metadata": {},
   "outputs": [
    {
     "data": {
      "image/png": "[encoded data removed]",
      "text/plain": [
       "<Figure size 864x432 with 1 Axes>"
      ]
     },
     "metadata": {
      "needs_background": "light"
     },
     "output_type": "display_data"
    }
   ],
   "source": [
    "plt.figure(figsize = (12,6))\n",
    "ax = train.groupby(train.month).medical_value.mean().plot.bar(width=.9, ec='black', color = ['#8a8a8a', '#765a61', '#615768', '#3198d3', '#a67169'])\n",
    "plt.xticks(rotation=0)\n",
    "ax.set(title='Average Medical Value by Month', xlabel='Month', ylabel='Medical Value')\n",
    "plt.show()"
   ]
  },
  {
   "cell_type": "markdown",
   "id": "b7762f0c",
   "metadata": {},
   "source": [
    "**Transportation**"
   ]
  },
  {
   "cell_type": "code",
   "execution_count": 28,
   "id": "57b0b688",
   "metadata": {},
   "outputs": [
    {
     "data": {
      "image/png": "[encoded data removed]",
      "text/plain": [
       "<Figure size 864x432 with 1 Axes>"
      ]
     },
     "metadata": {
      "needs_background": "light"
     },
     "output_type": "display_data"
    }
   ],
   "source": [
    "plt.figure(figsize = (12,6))\n",
    "ax = train.groupby(train.month).transportation_value.mean().plot.bar(width=.9, ec='black', color = ['#8a8a8a', '#765a61', '#615768', '#3198d3', '#a67169'])\n",
    "plt.xticks(rotation=0)\n",
    "ax.set(title='Average Transportation Value by Month', xlabel='Month', ylabel='Transportation Value')\n",
    "plt.show()"
   ]
  },
  {
   "cell_type": "markdown",
   "id": "eeed39dd",
   "metadata": {},
   "source": [
    "<h3><div class=\"alert alert-info\">We don't see significant difference per month. But values gradually increase from January to October (peek), and dip down in November.</div></h3>"
   ]
  },
  {
   "cell_type": "markdown",
   "id": "2bfcd4a7",
   "metadata": {},
   "source": [
    "***"
   ]
  },
  {
   "cell_type": "markdown",
   "id": "4c75def7",
   "metadata": {},
   "source": [
    "Before we try out different methods for forecasting sales and number of items sold, let's create a couple of functions that will be helpful in evaluating each of the methods that follow. \n",
    "\n",
    "`evaluate()` will compute the Mean Squared Error and the Rood Mean Squared Error to evaluate.  "
   ]
  },
  {
   "cell_type": "code",
   "execution_count": 29,
   "id": "0086679e",
   "metadata": {},
   "outputs": [],
   "source": [
    "def evaluate(target_var):\n",
    "    '''\n",
    "    This function will take the actual values of the target_var from validate, \n",
    "    and the predicted values stored in yhat_df, \n",
    "    and compute the rmse, rounding to 0 decimal places. \n",
    "    it will return the rmse. \n",
    "    '''\n",
    "    rmse = round(sqrt(mean_squared_error(validate[target_var], yhat_df[target_var])), 0)\n",
    "    return rmse"
   ]
  },
  {
   "cell_type": "markdown",
   "id": "cc433500",
   "metadata": {},
   "source": [
    "`plot_and_eval()` will use the evaluate function and also plot train and test values with the predicted values in order to compare performance. "
   ]
  },
  {
   "cell_type": "code",
   "execution_count": 30,
   "id": "d02cfdbf",
   "metadata": {},
   "outputs": [],
   "source": [
    "def plot_and_eval(target_var):\n",
    "    '''\n",
    "    This function takes in the target var name (string), and returns a plot\n",
    "    of the values of train for that variable, validate, and the predicted values from yhat_df. \n",
    "    it will als lable the rmse. \n",
    "    '''\n",
    "    plt.figure(figsize = (12,4))\n",
    "    plt.plot(train[target_var], label='Train', linewidth=3, color = '#6a9fa6')\n",
    "    plt.plot(validate[target_var], label='Validate', linewidth=3, color = '#5b766f')\n",
    "    plt.plot(yhat_df[target_var], label = 'Prediction', linewidth = 3, color = '#d46c31')\n",
    "    plt.title(target_var)\n",
    "    rmse = evaluate(target_var)\n",
    "    print(target_var, '-- RMSE: {:.0f}'.format(rmse))\n",
    "    plt.show()"
   ]
  },
  {
   "cell_type": "markdown",
   "id": "7dc5a408",
   "metadata": {},
   "source": [
    "Write `append_eval_df(model_type)` to append evaluation metrics for each model type, target variable, and metric type, along with the metric value into our `eval_df` data frame object. Which we will create an empty `eval_df` dataframe object to start. "
   ]
  },
  {
   "cell_type": "code",
   "execution_count": 31,
   "id": "45586039",
   "metadata": {},
   "outputs": [
    {
     "data": {
      "text/html": [
       "<div>\n",
       "<style scoped>\n",
       "    .dataframe tbody tr th:only-of-type {\n",
       "        vertical-align: middle;\n",
       "    }\n",
       "\n",
       "    .dataframe tbody tr th {\n",
       "        vertical-align: top;\n",
       "    }\n",
       "\n",
       "    .dataframe thead th {\n",
       "        text-align: right;\n",
       "    }\n",
       "</style>\n",
       "<table border=\"1\" class=\"dataframe\">\n",
       "  <thead>\n",
       "    <tr style=\"text-align: right;\">\n",
       "      <th></th>\n",
       "      <th>model_type</th>\n",
       "      <th>target_var</th>\n",
       "      <th>rmse</th>\n",
       "    </tr>\n",
       "  </thead>\n",
       "  <tbody>\n",
       "  </tbody>\n",
       "</table>\n",
       "</div>"
      ],
      "text/plain": [
       "Empty DataFrame\n",
       "Columns: [model_type, target_var, rmse]\n",
       "Index: []"
      ]
     },
     "execution_count": 31,
     "metadata": {},
     "output_type": "execute_result"
    }
   ],
   "source": [
    "# create an empty dataframe\n",
    "eval_df = pd.DataFrame(columns=['model_type', 'target_var', 'rmse'])\n",
    "eval_df"
   ]
  },
  {
   "cell_type": "code",
   "execution_count": 32,
   "id": "f59272b9",
   "metadata": {},
   "outputs": [],
   "source": [
    "# function to store the rmse so that we can compare\n",
    "def append_eval_df(model_type, target_var):\n",
    "    '''\n",
    "    this function takes in as arguments the type of model run, and the name of the target variable. \n",
    "    It returns the eval_df with the rmse appended to it for that model and target_var. \n",
    "    '''\n",
    "    rmse = evaluate(target_var)\n",
    "    d = {'model_type': [model_type], 'target_var': [target_var],\n",
    "        'rmse': [rmse]}\n",
    "    d = pd.DataFrame(d)\n",
    "    return eval_df.append(d, ignore_index = True)"
   ]
  },
  {
   "cell_type": "markdown",
   "id": "f7930bbd",
   "metadata": {},
   "source": [
    "# Forecast \n",
    "\n",
    "Forecasting is another word for predicting time series data. \n",
    "\n",
    "1. Last Observed Value: The future will look like the now\n",
    "2. Simple Average: The future will look, on average, like history. \n",
    "3. Moving Average: The future will look, on average, like recent history. \n",
    "4. Holt's Linear Trend\n",
    "5. Previous Cycle\n",
    "\n",
    "\n",
    "### Last observed value\n",
    "\n",
    "The simplest method for forecasting is to predict all future values to be the last observed value.  \n",
    "\n",
    "**Make Predictions**\n",
    "\n",
    "`all_items_value`"
   ]
  },
  {
   "cell_type": "code",
   "execution_count": 33,
   "id": "3da91e40",
   "metadata": {},
   "outputs": [
    {
     "data": {
      "text/plain": [
       "125.4"
      ]
     },
     "execution_count": 33,
     "metadata": {},
     "output_type": "execute_result"
    }
   ],
   "source": [
    "train['all_items_value'][-1:][0]"
   ]
  },
  {
   "cell_type": "code",
   "execution_count": 34,
   "id": "e74b38c0",
   "metadata": {},
   "outputs": [
    {
     "data": {
      "text/plain": [
       "125.4"
      ]
     },
     "execution_count": 34,
     "metadata": {},
     "output_type": "execute_result"
    }
   ],
   "source": [
    "# take the last item of all item value and assign to variable\n",
    "last_value = train['all_items_value'][-1:][0]\n",
    "last_value"
   ]
  },
  {
   "cell_type": "code",
   "execution_count": 35,
   "id": "be0abbd2",
   "metadata": {},
   "outputs": [
    {
     "data": {
      "text/html": [
       "<div>\n",
       "<style scoped>\n",
       "    .dataframe tbody tr th:only-of-type {\n",
       "        vertical-align: middle;\n",
       "    }\n",
       "\n",
       "    .dataframe tbody tr th {\n",
       "        vertical-align: top;\n",
       "    }\n",
       "\n",
       "    .dataframe thead th {\n",
       "        text-align: right;\n",
       "    }\n",
       "</style>\n",
       "<table border=\"1\" class=\"dataframe\">\n",
       "  <thead>\n",
       "    <tr style=\"text-align: right;\">\n",
       "      <th></th>\n",
       "      <th>all_items_value</th>\n",
       "    </tr>\n",
       "    <tr>\n",
       "      <th>label</th>\n",
       "      <th></th>\n",
       "    </tr>\n",
       "  </thead>\n",
       "  <tbody>\n",
       "    <tr>\n",
       "      <th>1989-11-01</th>\n",
       "      <td>125.4</td>\n",
       "    </tr>\n",
       "    <tr>\n",
       "      <th>1989-12-01</th>\n",
       "      <td>125.4</td>\n",
       "    </tr>\n",
       "    <tr>\n",
       "      <th>1990-01-01</th>\n",
       "      <td>125.4</td>\n",
       "    </tr>\n",
       "    <tr>\n",
       "      <th>1990-02-01</th>\n",
       "      <td>125.4</td>\n",
       "    </tr>\n",
       "    <tr>\n",
       "      <th>1990-03-01</th>\n",
       "      <td>125.4</td>\n",
       "    </tr>\n",
       "  </tbody>\n",
       "</table>\n",
       "</div>"
      ],
      "text/plain": [
       "            all_items_value\n",
       "label                      \n",
       "1989-11-01            125.4\n",
       "1989-12-01            125.4\n",
       "1990-01-01            125.4\n",
       "1990-02-01            125.4\n",
       "1990-03-01            125.4"
      ]
     },
     "execution_count": 35,
     "metadata": {},
     "output_type": "execute_result"
    }
   ],
   "source": [
    "yhat_df = pd.DataFrame(\n",
    "    {'all_items_value': [last_value]},\n",
    "    index=validate.index)\n",
    "\n",
    "yhat_df.head()"
   ]
  },
  {
   "cell_type": "markdown",
   "id": "971c9d85",
   "metadata": {},
   "source": [
    "**Note**: every predicted value in yhat_df is the same."
   ]
  },
  {
   "cell_type": "markdown",
   "id": "79ec38c9",
   "metadata": {},
   "source": [
    "**Plot Actual vs. Predicted Values**\n",
    "\n",
    "Now, let's plot actual and predicted values"
   ]
  },
  {
   "cell_type": "code",
   "execution_count": 36,
   "id": "105f91c6",
   "metadata": {},
   "outputs": [
    {
     "name": "stdout",
     "output_type": "stream",
     "text": [
      "all_items_value -- RMSE: 51\n"
     ]
    },
    {
     "data": {
      "image/png": "[encoded data removed]",
      "text/plain": [
       "<Figure size 864x288 with 1 Axes>"
      ]
     },
     "metadata": {
      "needs_background": "light"
     },
     "output_type": "display_data"
    }
   ],
   "source": [
    "plot_and_eval('all_items_value')"
   ]
  },
  {
   "cell_type": "markdown",
   "id": "0bc1ae54",
   "metadata": {},
   "source": [
    "**Evaluate** \n",
    "\n",
    "Evaluate using MSE and RMSE, and add evaluation metrics to `eval_df`"
   ]
  },
  {
   "cell_type": "code",
   "execution_count": 37,
   "id": "dfcb284d",
   "metadata": {},
   "outputs": [
    {
     "data": {
      "text/html": [
       "<div>\n",
       "<style scoped>\n",
       "    .dataframe tbody tr th:only-of-type {\n",
       "        vertical-align: middle;\n",
       "    }\n",
       "\n",
       "    .dataframe tbody tr th {\n",
       "        vertical-align: top;\n",
       "    }\n",
       "\n",
       "    .dataframe thead th {\n",
       "        text-align: right;\n",
       "    }\n",
       "</style>\n",
       "<table border=\"1\" class=\"dataframe\">\n",
       "  <thead>\n",
       "    <tr style=\"text-align: right;\">\n",
       "      <th></th>\n",
       "      <th>model_type</th>\n",
       "      <th>target_var</th>\n",
       "      <th>rmse</th>\n",
       "    </tr>\n",
       "  </thead>\n",
       "  <tbody>\n",
       "    <tr>\n",
       "      <th>0</th>\n",
       "      <td>last_observed_value</td>\n",
       "      <td>all_items_value</td>\n",
       "      <td>51.0</td>\n",
       "    </tr>\n",
       "  </tbody>\n",
       "</table>\n",
       "</div>"
      ],
      "text/plain": [
       "            model_type       target_var  rmse\n",
       "0  last_observed_value  all_items_value  51.0"
      ]
     },
     "execution_count": 37,
     "metadata": {},
     "output_type": "execute_result"
    }
   ],
   "source": [
    "eval_df = append_eval_df(model_type = 'last_observed_value', \n",
    "                             target_var = 'all_items_value')\n",
    "\n",
    "eval_df"
   ]
  },
  {
   "cell_type": "markdown",
   "id": "a5368c33",
   "metadata": {},
   "source": [
    "### Simple Average\n",
    "\n",
    "Take the simple average of historical values and use that value to predict future values.   \n",
    "\n",
    "This is a good option for an initial baseline. Every future datapoint (those in 'test') will be assigned the same value, and that value will be the overall mean of the values in train. \n",
    "\n",
    "**Make Predictions**\n",
    "\n",
    "Establishing the value of the prediction we will make."
   ]
  },
  {
   "cell_type": "code",
   "execution_count": 38,
   "id": "f49bd4b5",
   "metadata": {},
   "outputs": [
    {
     "data": {
      "text/plain": [
       "59.57"
      ]
     },
     "execution_count": 38,
     "metadata": {},
     "output_type": "execute_result"
    }
   ],
   "source": [
    "# compute simple average\n",
    "avg_value = round(train['all_items_value'].mean(), 2)\n",
    "avg_value"
   ]
  },
  {
   "cell_type": "markdown",
   "id": "dbf211ac",
   "metadata": {},
   "source": [
    "Apply predictions to our observations."
   ]
  },
  {
   "cell_type": "code",
   "execution_count": 39,
   "id": "6fa179bd",
   "metadata": {},
   "outputs": [],
   "source": [
    "def make_predictions(all_items_value=None):\n",
    "    yhat_df = pd.DataFrame({'all_items_value': [all_items_value]},\n",
    "                          index=validate.index)\n",
    "    return yhat_df"
   ]
  },
  {
   "cell_type": "code",
   "execution_count": 40,
   "id": "2bfe760d",
   "metadata": {},
   "outputs": [],
   "source": [
    "yhat_df = make_predictions(avg_value)"
   ]
  },
  {
   "cell_type": "code",
   "execution_count": 41,
   "id": "fe98bd83",
   "metadata": {},
   "outputs": [
    {
     "data": {
      "text/html": [
       "<div>\n",
       "<style scoped>\n",
       "    .dataframe tbody tr th:only-of-type {\n",
       "        vertical-align: middle;\n",
       "    }\n",
       "\n",
       "    .dataframe tbody tr th {\n",
       "        vertical-align: top;\n",
       "    }\n",
       "\n",
       "    .dataframe thead th {\n",
       "        text-align: right;\n",
       "    }\n",
       "</style>\n",
       "<table border=\"1\" class=\"dataframe\">\n",
       "  <thead>\n",
       "    <tr style=\"text-align: right;\">\n",
       "      <th></th>\n",
       "      <th>all_items_value</th>\n",
       "    </tr>\n",
       "  </thead>\n",
       "  <tbody>\n",
       "    <tr>\n",
       "      <th>count</th>\n",
       "      <td>2.360000e+02</td>\n",
       "    </tr>\n",
       "    <tr>\n",
       "      <th>mean</th>\n",
       "      <td>5.957000e+01</td>\n",
       "    </tr>\n",
       "    <tr>\n",
       "      <th>std</th>\n",
       "      <td>1.851338e-13</td>\n",
       "    </tr>\n",
       "    <tr>\n",
       "      <th>min</th>\n",
       "      <td>5.957000e+01</td>\n",
       "    </tr>\n",
       "    <tr>\n",
       "      <th>25%</th>\n",
       "      <td>5.957000e+01</td>\n",
       "    </tr>\n",
       "    <tr>\n",
       "      <th>50%</th>\n",
       "      <td>5.957000e+01</td>\n",
       "    </tr>\n",
       "    <tr>\n",
       "      <th>75%</th>\n",
       "      <td>5.957000e+01</td>\n",
       "    </tr>\n",
       "    <tr>\n",
       "      <th>max</th>\n",
       "      <td>5.957000e+01</td>\n",
       "    </tr>\n",
       "  </tbody>\n",
       "</table>\n",
       "</div>"
      ],
      "text/plain": [
       "       all_items_value\n",
       "count     2.360000e+02\n",
       "mean      5.957000e+01\n",
       "std       1.851338e-13\n",
       "min       5.957000e+01\n",
       "25%       5.957000e+01\n",
       "50%       5.957000e+01\n",
       "75%       5.957000e+01\n",
       "max       5.957000e+01"
      ]
     },
     "execution_count": 41,
     "metadata": {},
     "output_type": "execute_result"
    }
   ],
   "source": [
    "yhat_df.describe()"
   ]
  },
  {
   "cell_type": "markdown",
   "id": "a90d3c20",
   "metadata": {},
   "source": [
    "**Plot Actual vs. Predicted Values**\n",
    "\n",
    "Now, let's plot and evaluate the performance of our time series model using **Simple Average**"
   ]
  },
  {
   "cell_type": "code",
   "execution_count": 42,
   "id": "ce999030",
   "metadata": {},
   "outputs": [
    {
     "name": "stdout",
     "output_type": "stream",
     "text": [
      "all_items_value -- RMSE: 113\n"
     ]
    },
    {
     "data": {
      "image/png": "[encoded data removed]",
      "text/plain": [
       "<Figure size 864x288 with 1 Axes>"
      ]
     },
     "metadata": {
      "needs_background": "light"
     },
     "output_type": "display_data"
    }
   ],
   "source": [
    "plot_and_eval('all_items_value')"
   ]
  },
  {
   "cell_type": "markdown",
   "id": "fd1d827e",
   "metadata": {},
   "source": [
    "**Evaluate**\n",
    "\n",
    "Evaluate using MSE and RMSE, and add evaluation metrics to `eval_df`"
   ]
  },
  {
   "cell_type": "code",
   "execution_count": 43,
   "id": "c557cdf5",
   "metadata": {},
   "outputs": [
    {
     "data": {
      "text/html": [
       "<div>\n",
       "<style scoped>\n",
       "    .dataframe tbody tr th:only-of-type {\n",
       "        vertical-align: middle;\n",
       "    }\n",
       "\n",
       "    .dataframe tbody tr th {\n",
       "        vertical-align: top;\n",
       "    }\n",
       "\n",
       "    .dataframe thead th {\n",
       "        text-align: right;\n",
       "    }\n",
       "</style>\n",
       "<table border=\"1\" class=\"dataframe\">\n",
       "  <thead>\n",
       "    <tr style=\"text-align: right;\">\n",
       "      <th></th>\n",
       "      <th>model_type</th>\n",
       "      <th>target_var</th>\n",
       "      <th>rmse</th>\n",
       "    </tr>\n",
       "  </thead>\n",
       "  <tbody>\n",
       "    <tr>\n",
       "      <th>0</th>\n",
       "      <td>last_observed_value</td>\n",
       "      <td>all_items_value</td>\n",
       "      <td>51.0</td>\n",
       "    </tr>\n",
       "    <tr>\n",
       "      <th>1</th>\n",
       "      <td>simple_average</td>\n",
       "      <td>all_items_value</td>\n",
       "      <td>113.0</td>\n",
       "    </tr>\n",
       "  </tbody>\n",
       "</table>\n",
       "</div>"
      ],
      "text/plain": [
       "            model_type       target_var   rmse\n",
       "0  last_observed_value  all_items_value   51.0\n",
       "1       simple_average  all_items_value  113.0"
      ]
     },
     "execution_count": 43,
     "metadata": {},
     "output_type": "execute_result"
    }
   ],
   "source": [
    "eval_df = append_eval_df(model_type='simple_average', \n",
    "                            target_var = 'all_items_value')\n",
    "eval_df"
   ]
  },
  {
   "cell_type": "markdown",
   "id": "d551f95f",
   "metadata": {},
   "source": [
    "### Moving Average\n",
    "\n",
    "In this example, we will use a 30-day moving average to forecast. In other words, the average over the last 30-days will be used as the forecasted value. "
   ]
  },
  {
   "cell_type": "code",
   "execution_count": 44,
   "id": "39fc11a6",
   "metadata": {},
   "outputs": [
    {
     "name": "stdout",
     "output_type": "stream",
     "text": [
      "label\n",
      "1957-01-01           NaN\n",
      "1957-02-01           NaN\n",
      "1957-03-01           NaN\n",
      "1957-04-01           NaN\n",
      "1957-05-01           NaN\n",
      "                 ...    \n",
      "1989-06-01    117.286667\n",
      "1989-07-01    117.723333\n",
      "1989-08-01    118.146667\n",
      "1989-09-01    118.566667\n",
      "1989-10-01    118.990000\n",
      "Name: all_items_value, Length: 394, dtype: float64\n"
     ]
    }
   ],
   "source": [
    "# demonstrate that the mean of the first 30 days \n",
    "# is equal to rolling(30) on day 30\n",
    "\n",
    "print(train['all_items_value'].rolling(30).mean())"
   ]
  },
  {
   "cell_type": "markdown",
   "id": "e5e0e360",
   "metadata": {},
   "source": [
    "**Make Predictions**"
   ]
  },
  {
   "cell_type": "code",
   "execution_count": 45,
   "id": "2930b075",
   "metadata": {},
   "outputs": [
    {
     "data": {
      "text/plain": [
       "118.99000000000001"
      ]
     },
     "execution_count": 45,
     "metadata": {},
     "output_type": "execute_result"
    }
   ],
   "source": [
    "period=30\n",
    "train['all_items_value'].rolling(period).mean()[-1]"
   ]
  },
  {
   "cell_type": "code",
   "execution_count": 46,
   "id": "27542b76",
   "metadata": {},
   "outputs": [
    {
     "name": "stdout",
     "output_type": "stream",
     "text": [
      "118.99\n"
     ]
    }
   ],
   "source": [
    "period = 30 \n",
    "\n",
    "# take 30 day rolling average, then take the last element and that will the one that propogates \n",
    "# forward as our prediction. \n",
    "rolling_value = round(train['all_items_value'].rolling(period).mean()[-1], 2)\n",
    "print(rolling_value)"
   ]
  },
  {
   "cell_type": "code",
   "execution_count": 47,
   "id": "30f1882d",
   "metadata": {},
   "outputs": [
    {
     "data": {
      "text/html": [
       "<div>\n",
       "<style scoped>\n",
       "    .dataframe tbody tr th:only-of-type {\n",
       "        vertical-align: middle;\n",
       "    }\n",
       "\n",
       "    .dataframe tbody tr th {\n",
       "        vertical-align: top;\n",
       "    }\n",
       "\n",
       "    .dataframe thead th {\n",
       "        text-align: right;\n",
       "    }\n",
       "</style>\n",
       "<table border=\"1\" class=\"dataframe\">\n",
       "  <thead>\n",
       "    <tr style=\"text-align: right;\">\n",
       "      <th></th>\n",
       "      <th>all_items_value</th>\n",
       "    </tr>\n",
       "    <tr>\n",
       "      <th>label</th>\n",
       "      <th></th>\n",
       "    </tr>\n",
       "  </thead>\n",
       "  <tbody>\n",
       "    <tr>\n",
       "      <th>1989-11-01</th>\n",
       "      <td>118.99</td>\n",
       "    </tr>\n",
       "    <tr>\n",
       "      <th>1989-12-01</th>\n",
       "      <td>118.99</td>\n",
       "    </tr>\n",
       "    <tr>\n",
       "      <th>1990-01-01</th>\n",
       "      <td>118.99</td>\n",
       "    </tr>\n",
       "    <tr>\n",
       "      <th>1990-02-01</th>\n",
       "      <td>118.99</td>\n",
       "    </tr>\n",
       "    <tr>\n",
       "      <th>1990-03-01</th>\n",
       "      <td>118.99</td>\n",
       "    </tr>\n",
       "  </tbody>\n",
       "</table>\n",
       "</div>"
      ],
      "text/plain": [
       "            all_items_value\n",
       "label                      \n",
       "1989-11-01           118.99\n",
       "1989-12-01           118.99\n",
       "1990-01-01           118.99\n",
       "1990-02-01           118.99\n",
       "1990-03-01           118.99"
      ]
     },
     "execution_count": 47,
     "metadata": {},
     "output_type": "execute_result"
    }
   ],
   "source": [
    "yhat_df = make_predictions(rolling_value)\n",
    "yhat_df.head()"
   ]
  },
  {
   "cell_type": "markdown",
   "id": "43dfad75",
   "metadata": {},
   "source": [
    "**Plot Actual vs. Predicted Values**\n",
    "\n",
    "Now, let's plot and evaluate the performance of our time series model using **Moving Average**"
   ]
  },
  {
   "cell_type": "code",
   "execution_count": 48,
   "id": "b2234e32",
   "metadata": {},
   "outputs": [
    {
     "name": "stdout",
     "output_type": "stream",
     "text": [
      "all_items_value -- RMSE: 57\n"
     ]
    },
    {
     "data": {
      "image/png": "[encoded data removed]",
      "text/plain": [
       "<Figure size 864x288 with 1 Axes>"
      ]
     },
     "metadata": {
      "needs_background": "light"
     },
     "output_type": "display_data"
    }
   ],
   "source": [
    "plot_and_eval('all_items_value')"
   ]
  },
  {
   "cell_type": "markdown",
   "id": "716b303a",
   "metadata": {},
   "source": [
    "**Evaluate**\n",
    "\n",
    "Evaluate using MSE and RMSE, and add evaluation metrics to `eval_df`"
   ]
  },
  {
   "cell_type": "code",
   "execution_count": 49,
   "id": "e940cc66",
   "metadata": {},
   "outputs": [
    {
     "data": {
      "text/html": [
       "<div>\n",
       "<style scoped>\n",
       "    .dataframe tbody tr th:only-of-type {\n",
       "        vertical-align: middle;\n",
       "    }\n",
       "\n",
       "    .dataframe tbody tr th {\n",
       "        vertical-align: top;\n",
       "    }\n",
       "\n",
       "    .dataframe thead th {\n",
       "        text-align: right;\n",
       "    }\n",
       "</style>\n",
       "<table border=\"1\" class=\"dataframe\">\n",
       "  <thead>\n",
       "    <tr style=\"text-align: right;\">\n",
       "      <th></th>\n",
       "      <th>model_type</th>\n",
       "      <th>target_var</th>\n",
       "      <th>rmse</th>\n",
       "    </tr>\n",
       "  </thead>\n",
       "  <tbody>\n",
       "    <tr>\n",
       "      <th>0</th>\n",
       "      <td>last_observed_value</td>\n",
       "      <td>all_items_value</td>\n",
       "      <td>51.0</td>\n",
       "    </tr>\n",
       "    <tr>\n",
       "      <th>1</th>\n",
       "      <td>simple_average</td>\n",
       "      <td>all_items_value</td>\n",
       "      <td>113.0</td>\n",
       "    </tr>\n",
       "    <tr>\n",
       "      <th>2</th>\n",
       "      <td>30d_moving_avg</td>\n",
       "      <td>all_items_value</td>\n",
       "      <td>57.0</td>\n",
       "    </tr>\n",
       "  </tbody>\n",
       "</table>\n",
       "</div>"
      ],
      "text/plain": [
       "            model_type       target_var   rmse\n",
       "0  last_observed_value  all_items_value   51.0\n",
       "1       simple_average  all_items_value  113.0\n",
       "2       30d_moving_avg  all_items_value   57.0"
      ]
     },
     "execution_count": 49,
     "metadata": {},
     "output_type": "execute_result"
    }
   ],
   "source": [
    "eval_df = append_eval_df(model_type = '30d_moving_avg', \n",
    "                            target_var = 'all_items_value')\n",
    "eval_df"
   ]
  },
  {
   "cell_type": "markdown",
   "id": "0b00f0c4",
   "metadata": {},
   "source": [
    "Let's try out several other values for periods:"
   ]
  },
  {
   "cell_type": "code",
   "execution_count": 51,
   "id": "9acb03dd",
   "metadata": {},
   "outputs": [],
   "source": [
    "periods = [4, 12, 26, 52, 104]\n",
    "\n",
    "for p in periods: \n",
    "    rolling_value = round(train['all_items_value'].rolling(p).mean()[-1], 2)\n",
    "    yhat_df = make_predictions(rolling_value)\n",
    "    model_type = str(p) + '_day_moving_avg'\n",
    "    eval_df = append_eval_df(model_type = model_type,\n",
    "                                target_var = 'all_items_value')"
   ]
  },
  {
   "cell_type": "code",
   "execution_count": 52,
   "id": "5106e559",
   "metadata": {},
   "outputs": [
    {
     "data": {
      "text/html": [
       "<div>\n",
       "<style scoped>\n",
       "    .dataframe tbody tr th:only-of-type {\n",
       "        vertical-align: middle;\n",
       "    }\n",
       "\n",
       "    .dataframe tbody tr th {\n",
       "        vertical-align: top;\n",
       "    }\n",
       "\n",
       "    .dataframe thead th {\n",
       "        text-align: right;\n",
       "    }\n",
       "</style>\n",
       "<table border=\"1\" class=\"dataframe\">\n",
       "  <thead>\n",
       "    <tr style=\"text-align: right;\">\n",
       "      <th></th>\n",
       "      <th>model_type</th>\n",
       "      <th>target_var</th>\n",
       "      <th>rmse</th>\n",
       "    </tr>\n",
       "  </thead>\n",
       "  <tbody>\n",
       "    <tr>\n",
       "      <th>0</th>\n",
       "      <td>last_observed_value</td>\n",
       "      <td>all_items_value</td>\n",
       "      <td>51.0</td>\n",
       "    </tr>\n",
       "    <tr>\n",
       "      <th>1</th>\n",
       "      <td>simple_average</td>\n",
       "      <td>all_items_value</td>\n",
       "      <td>113.0</td>\n",
       "    </tr>\n",
       "    <tr>\n",
       "      <th>2</th>\n",
       "      <td>30d_moving_avg</td>\n",
       "      <td>all_items_value</td>\n",
       "      <td>57.0</td>\n",
       "    </tr>\n",
       "    <tr>\n",
       "      <th>3</th>\n",
       "      <td>4_day_moving_avg</td>\n",
       "      <td>all_items_value</td>\n",
       "      <td>52.0</td>\n",
       "    </tr>\n",
       "    <tr>\n",
       "      <th>4</th>\n",
       "      <td>12_day_moving_avg</td>\n",
       "      <td>all_items_value</td>\n",
       "      <td>53.0</td>\n",
       "    </tr>\n",
       "    <tr>\n",
       "      <th>5</th>\n",
       "      <td>26_day_moving_avg</td>\n",
       "      <td>all_items_value</td>\n",
       "      <td>56.0</td>\n",
       "    </tr>\n",
       "    <tr>\n",
       "      <th>6</th>\n",
       "      <td>52_day_moving_avg</td>\n",
       "      <td>all_items_value</td>\n",
       "      <td>61.0</td>\n",
       "    </tr>\n",
       "    <tr>\n",
       "      <th>7</th>\n",
       "      <td>104_day_moving_avg</td>\n",
       "      <td>all_items_value</td>\n",
       "      <td>68.0</td>\n",
       "    </tr>\n",
       "  </tbody>\n",
       "</table>\n",
       "</div>"
      ],
      "text/plain": [
       "            model_type       target_var   rmse\n",
       "0  last_observed_value  all_items_value   51.0\n",
       "1       simple_average  all_items_value  113.0\n",
       "2       30d_moving_avg  all_items_value   57.0\n",
       "3     4_day_moving_avg  all_items_value   52.0\n",
       "4    12_day_moving_avg  all_items_value   53.0\n",
       "5    26_day_moving_avg  all_items_value   56.0\n",
       "6    52_day_moving_avg  all_items_value   61.0\n",
       "7   104_day_moving_avg  all_items_value   68.0"
      ]
     },
     "execution_count": 52,
     "metadata": {},
     "output_type": "execute_result"
    }
   ],
   "source": [
    "eval_df"
   ]
  },
  {
   "cell_type": "markdown",
   "id": "63ed9675",
   "metadata": {},
   "source": [
    "4 day moving average is the best so far."
   ]
  },
  {
   "cell_type": "code",
   "execution_count": 54,
   "id": "bea5c925",
   "metadata": {},
   "outputs": [],
   "source": [
    "min_items_rmse = eval_df[eval_df.target_var == 'all_items_value']['rmse'].min()"
   ]
  },
  {
   "cell_type": "code",
   "execution_count": 55,
   "id": "347d367e",
   "metadata": {},
   "outputs": [
    {
     "data": {
      "text/plain": [
       "51.0"
      ]
     },
     "execution_count": 55,
     "metadata": {},
     "output_type": "execute_result"
    }
   ],
   "source": [
    "min_items_rmse"
   ]
  },
  {
   "cell_type": "code",
   "execution_count": 57,
   "id": "3539cd0e",
   "metadata": {},
   "outputs": [
    {
     "data": {
      "text/html": [
       "<div>\n",
       "<style scoped>\n",
       "    .dataframe tbody tr th:only-of-type {\n",
       "        vertical-align: middle;\n",
       "    }\n",
       "\n",
       "    .dataframe tbody tr th {\n",
       "        vertical-align: top;\n",
       "    }\n",
       "\n",
       "    .dataframe thead th {\n",
       "        text-align: right;\n",
       "    }\n",
       "</style>\n",
       "<table border=\"1\" class=\"dataframe\">\n",
       "  <thead>\n",
       "    <tr style=\"text-align: right;\">\n",
       "      <th></th>\n",
       "      <th>model_type</th>\n",
       "      <th>target_var</th>\n",
       "      <th>rmse</th>\n",
       "    </tr>\n",
       "  </thead>\n",
       "  <tbody>\n",
       "    <tr>\n",
       "      <th>0</th>\n",
       "      <td>last_observed_value</td>\n",
       "      <td>all_items_value</td>\n",
       "      <td>51.0</td>\n",
       "    </tr>\n",
       "  </tbody>\n",
       "</table>\n",
       "</div>"
      ],
      "text/plain": [
       "            model_type       target_var  rmse\n",
       "0  last_observed_value  all_items_value  51.0"
      ]
     },
     "execution_count": 57,
     "metadata": {},
     "output_type": "execute_result"
    }
   ],
   "source": [
    "# Find the model with the lowest rmse\n",
    "eval_df[eval_df.rmse == min_items_rmse]"
   ]
  },
  {
   "cell_type": "markdown",
   "id": "0dbf711a",
   "metadata": {},
   "source": [
    "### Basic Holt's Linear Trend\n",
    "\n",
    "**Make Predictions**\n",
    "\n",
    "Now, like we would when using sklearn, we will create the Holt object, fit the model, and make predictions. \n",
    "\n",
    "Holt: \n",
    "\n",
    "- exponential = True/False (exponential vs. linear growth, additive vs. multiplicative)\n",
    "- damped $\\phi$ = True/False: with Holt, forecasts will increase or decrease indefinitely into the future.  To avoid this, use the Damped trend method which has a damping parameter 0< ϕ <1. \n",
    "\n",
    "\n",
    "fit: \n",
    "\n",
    "- smoothing_level ($\\alpha$): value between (0,1)\n",
    "- smoothing_slope ($\\beta$): value between (0,1)\n",
    "- optimized: use the auto-optimization that allow statsmodels to automatically find an optimized value for us. "
   ]
  },
  {
   "cell_type": "code",
   "execution_count": 58,
   "id": "50ec9c67",
   "metadata": {},
   "outputs": [],
   "source": [
    "import statsmodels.api as sm"
   ]
  },
  {
   "cell_type": "code",
   "execution_count": 63,
   "id": "41b2cffa",
   "metadata": {},
   "outputs": [],
   "source": [
    "col = 'all_items_value' \n",
    "# create our Holt's Object\n",
    "model = Holt(train[col], exponential=False, damped=True)"
   ]
  },
  {
   "cell_type": "code",
   "execution_count": 64,
   "id": "c1f06ecf",
   "metadata": {},
   "outputs": [],
   "source": [
    "# fit the holt's object\n",
    "model = model.fit(optimized=True)"
   ]
  },
  {
   "cell_type": "code",
   "execution_count": 65,
   "id": "7f5b9fce",
   "metadata": {},
   "outputs": [],
   "source": [
    "yhat_items = model.predict(start = validate.index[0],\n",
    "                              end = validate.index[-1])"
   ]
  },
  {
   "cell_type": "code",
   "execution_count": 66,
   "id": "99ff762b",
   "metadata": {},
   "outputs": [
    {
     "data": {
      "text/plain": [
       "(236, 16)"
      ]
     },
     "execution_count": 66,
     "metadata": {},
     "output_type": "execute_result"
    }
   ],
   "source": [
    "validate.shape"
   ]
  },
  {
   "cell_type": "code",
   "execution_count": 67,
   "id": "34946eb4",
   "metadata": {},
   "outputs": [
    {
     "data": {
      "text/plain": [
       "1989-11-01    125.804479\n",
       "1989-12-01    126.201098\n",
       "1990-01-01    126.590008\n",
       "1990-02-01    126.971361\n",
       "1990-03-01    127.345302\n",
       "                 ...    \n",
       "2009-02-01    145.993725\n",
       "2009-03-01    145.997986\n",
       "2009-04-01    146.002165\n",
       "2009-05-01    146.006262\n",
       "2009-06-01    146.010279\n",
       "Freq: MS, Length: 236, dtype: float64"
      ]
     },
     "execution_count": 67,
     "metadata": {},
     "output_type": "execute_result"
    }
   ],
   "source": [
    "yhat_items"
   ]
  },
  {
   "cell_type": "code",
   "execution_count": 68,
   "id": "552444ea",
   "metadata": {},
   "outputs": [],
   "source": [
    "model = Holt(train[col], exponential=False, damped=True)\n",
    "model = model.fit(optimized=True)\n",
    "yhat_items = model.predict(start = validate.index[0],\n",
    "                              end = validate.index[-1])\n",
    "yhat_df[col] = round(yhat_items, 2)"
   ]
  },
  {
   "cell_type": "code",
   "execution_count": 69,
   "id": "b82ee675",
   "metadata": {},
   "outputs": [
    {
     "data": {
      "text/html": [
       "<div>\n",
       "<style scoped>\n",
       "    .dataframe tbody tr th:only-of-type {\n",
       "        vertical-align: middle;\n",
       "    }\n",
       "\n",
       "    .dataframe tbody tr th {\n",
       "        vertical-align: top;\n",
       "    }\n",
       "\n",
       "    .dataframe thead th {\n",
       "        text-align: right;\n",
       "    }\n",
       "</style>\n",
       "<table border=\"1\" class=\"dataframe\">\n",
       "  <thead>\n",
       "    <tr style=\"text-align: right;\">\n",
       "      <th></th>\n",
       "      <th>all_items_value</th>\n",
       "    </tr>\n",
       "    <tr>\n",
       "      <th>label</th>\n",
       "      <th></th>\n",
       "    </tr>\n",
       "  </thead>\n",
       "  <tbody>\n",
       "    <tr>\n",
       "      <th>1989-11-01</th>\n",
       "      <td>125.80</td>\n",
       "    </tr>\n",
       "    <tr>\n",
       "      <th>1989-12-01</th>\n",
       "      <td>126.20</td>\n",
       "    </tr>\n",
       "    <tr>\n",
       "      <th>1990-01-01</th>\n",
       "      <td>126.59</td>\n",
       "    </tr>\n",
       "    <tr>\n",
       "      <th>1990-02-01</th>\n",
       "      <td>126.97</td>\n",
       "    </tr>\n",
       "    <tr>\n",
       "      <th>1990-03-01</th>\n",
       "      <td>127.35</td>\n",
       "    </tr>\n",
       "    <tr>\n",
       "      <th>...</th>\n",
       "      <td>...</td>\n",
       "    </tr>\n",
       "    <tr>\n",
       "      <th>2009-02-01</th>\n",
       "      <td>145.99</td>\n",
       "    </tr>\n",
       "    <tr>\n",
       "      <th>2009-03-01</th>\n",
       "      <td>146.00</td>\n",
       "    </tr>\n",
       "    <tr>\n",
       "      <th>2009-04-01</th>\n",
       "      <td>146.00</td>\n",
       "    </tr>\n",
       "    <tr>\n",
       "      <th>2009-05-01</th>\n",
       "      <td>146.01</td>\n",
       "    </tr>\n",
       "    <tr>\n",
       "      <th>2009-06-01</th>\n",
       "      <td>146.01</td>\n",
       "    </tr>\n",
       "  </tbody>\n",
       "</table>\n",
       "<p>236 rows × 1 columns</p>\n",
       "</div>"
      ],
      "text/plain": [
       "            all_items_value\n",
       "label                      \n",
       "1989-11-01           125.80\n",
       "1989-12-01           126.20\n",
       "1990-01-01           126.59\n",
       "1990-02-01           126.97\n",
       "1990-03-01           127.35\n",
       "...                     ...\n",
       "2009-02-01           145.99\n",
       "2009-03-01           146.00\n",
       "2009-04-01           146.00\n",
       "2009-05-01           146.01\n",
       "2009-06-01           146.01\n",
       "\n",
       "[236 rows x 1 columns]"
      ]
     },
     "execution_count": 69,
     "metadata": {},
     "output_type": "execute_result"
    }
   ],
   "source": [
    "yhat_df"
   ]
  },
  {
   "cell_type": "markdown",
   "id": "1bb82ff2",
   "metadata": {},
   "source": [
    "**Plot Actual vs. Predicted Values**"
   ]
  },
  {
   "cell_type": "code",
   "execution_count": 70,
   "id": "a92faf8b",
   "metadata": {},
   "outputs": [
    {
     "name": "stdout",
     "output_type": "stream",
     "text": [
      "all_items_value -- RMSE: 35\n"
     ]
    },
    {
     "data": {
      "image/png": "[encoded data removed]",
      "text/plain": [
       "<Figure size 864x288 with 1 Axes>"
      ]
     },
     "metadata": {
      "needs_background": "light"
     },
     "output_type": "display_data"
    }
   ],
   "source": [
    "plot_and_eval(target_var = col)"
   ]
  },
  {
   "cell_type": "markdown",
   "id": "315d30af",
   "metadata": {},
   "source": [
    "**Evaluate**"
   ]
  },
  {
   "cell_type": "code",
   "execution_count": 71,
   "id": "e21ec97a",
   "metadata": {},
   "outputs": [],
   "source": [
    "eval_df = append_eval_df(model_type = 'holts_optimized', \n",
    "                            target_var = col)"
   ]
  },
  {
   "cell_type": "code",
   "execution_count": 72,
   "id": "c0a10a9c",
   "metadata": {
    "scrolled": true
   },
   "outputs": [
    {
     "data": {
      "text/html": [
       "<div>\n",
       "<style scoped>\n",
       "    .dataframe tbody tr th:only-of-type {\n",
       "        vertical-align: middle;\n",
       "    }\n",
       "\n",
       "    .dataframe tbody tr th {\n",
       "        vertical-align: top;\n",
       "    }\n",
       "\n",
       "    .dataframe thead th {\n",
       "        text-align: right;\n",
       "    }\n",
       "</style>\n",
       "<table border=\"1\" class=\"dataframe\">\n",
       "  <thead>\n",
       "    <tr style=\"text-align: right;\">\n",
       "      <th></th>\n",
       "      <th>model_type</th>\n",
       "      <th>target_var</th>\n",
       "      <th>rmse</th>\n",
       "    </tr>\n",
       "  </thead>\n",
       "  <tbody>\n",
       "    <tr>\n",
       "      <th>8</th>\n",
       "      <td>holts_optimized</td>\n",
       "      <td>all_items_value</td>\n",
       "      <td>35.0</td>\n",
       "    </tr>\n",
       "    <tr>\n",
       "      <th>0</th>\n",
       "      <td>last_observed_value</td>\n",
       "      <td>all_items_value</td>\n",
       "      <td>51.0</td>\n",
       "    </tr>\n",
       "    <tr>\n",
       "      <th>3</th>\n",
       "      <td>4_day_moving_avg</td>\n",
       "      <td>all_items_value</td>\n",
       "      <td>52.0</td>\n",
       "    </tr>\n",
       "    <tr>\n",
       "      <th>4</th>\n",
       "      <td>12_day_moving_avg</td>\n",
       "      <td>all_items_value</td>\n",
       "      <td>53.0</td>\n",
       "    </tr>\n",
       "    <tr>\n",
       "      <th>5</th>\n",
       "      <td>26_day_moving_avg</td>\n",
       "      <td>all_items_value</td>\n",
       "      <td>56.0</td>\n",
       "    </tr>\n",
       "    <tr>\n",
       "      <th>2</th>\n",
       "      <td>30d_moving_avg</td>\n",
       "      <td>all_items_value</td>\n",
       "      <td>57.0</td>\n",
       "    </tr>\n",
       "    <tr>\n",
       "      <th>6</th>\n",
       "      <td>52_day_moving_avg</td>\n",
       "      <td>all_items_value</td>\n",
       "      <td>61.0</td>\n",
       "    </tr>\n",
       "    <tr>\n",
       "      <th>7</th>\n",
       "      <td>104_day_moving_avg</td>\n",
       "      <td>all_items_value</td>\n",
       "      <td>68.0</td>\n",
       "    </tr>\n",
       "    <tr>\n",
       "      <th>1</th>\n",
       "      <td>simple_average</td>\n",
       "      <td>all_items_value</td>\n",
       "      <td>113.0</td>\n",
       "    </tr>\n",
       "  </tbody>\n",
       "</table>\n",
       "</div>"
      ],
      "text/plain": [
       "            model_type       target_var   rmse\n",
       "8      holts_optimized  all_items_value   35.0\n",
       "0  last_observed_value  all_items_value   51.0\n",
       "3     4_day_moving_avg  all_items_value   52.0\n",
       "4    12_day_moving_avg  all_items_value   53.0\n",
       "5    26_day_moving_avg  all_items_value   56.0\n",
       "2       30d_moving_avg  all_items_value   57.0\n",
       "6    52_day_moving_avg  all_items_value   61.0\n",
       "7   104_day_moving_avg  all_items_value   68.0\n",
       "1       simple_average  all_items_value  113.0"
      ]
     },
     "execution_count": 72,
     "metadata": {},
     "output_type": "execute_result"
    }
   ],
   "source": [
    "eval_df.sort_values(by='rmse')"
   ]
  },
  {
   "cell_type": "markdown",
   "id": "b73d4777",
   "metadata": {},
   "source": [
    "**Holt's optimized model has the lowest RMSE of 35.0**"
   ]
  },
  {
   "cell_type": "markdown",
   "id": "1bf86733",
   "metadata": {},
   "source": [
    "# Conclusion\n",
    "\n",
    "Which model did the best? "
   ]
  },
  {
   "cell_type": "code",
   "execution_count": 75,
   "id": "bc90ebcd",
   "metadata": {},
   "outputs": [
    {
     "data": {
      "text/html": [
       "<div>\n",
       "<style scoped>\n",
       "    .dataframe tbody tr th:only-of-type {\n",
       "        vertical-align: middle;\n",
       "    }\n",
       "\n",
       "    .dataframe tbody tr th {\n",
       "        vertical-align: top;\n",
       "    }\n",
       "\n",
       "    .dataframe thead th {\n",
       "        text-align: right;\n",
       "    }\n",
       "</style>\n",
       "<table border=\"1\" class=\"dataframe\">\n",
       "  <thead>\n",
       "    <tr style=\"text-align: right;\">\n",
       "      <th></th>\n",
       "      <th>model_type</th>\n",
       "      <th>target_var</th>\n",
       "      <th>rmse</th>\n",
       "    </tr>\n",
       "  </thead>\n",
       "  <tbody>\n",
       "    <tr>\n",
       "      <th>0</th>\n",
       "      <td>last_observed_value</td>\n",
       "      <td>all_items_value</td>\n",
       "      <td>51.0</td>\n",
       "    </tr>\n",
       "    <tr>\n",
       "      <th>1</th>\n",
       "      <td>simple_average</td>\n",
       "      <td>all_items_value</td>\n",
       "      <td>113.0</td>\n",
       "    </tr>\n",
       "    <tr>\n",
       "      <th>2</th>\n",
       "      <td>30d_moving_avg</td>\n",
       "      <td>all_items_value</td>\n",
       "      <td>57.0</td>\n",
       "    </tr>\n",
       "    <tr>\n",
       "      <th>3</th>\n",
       "      <td>4_day_moving_avg</td>\n",
       "      <td>all_items_value</td>\n",
       "      <td>52.0</td>\n",
       "    </tr>\n",
       "    <tr>\n",
       "      <th>4</th>\n",
       "      <td>12_day_moving_avg</td>\n",
       "      <td>all_items_value</td>\n",
       "      <td>53.0</td>\n",
       "    </tr>\n",
       "    <tr>\n",
       "      <th>5</th>\n",
       "      <td>26_day_moving_avg</td>\n",
       "      <td>all_items_value</td>\n",
       "      <td>56.0</td>\n",
       "    </tr>\n",
       "    <tr>\n",
       "      <th>6</th>\n",
       "      <td>52_day_moving_avg</td>\n",
       "      <td>all_items_value</td>\n",
       "      <td>61.0</td>\n",
       "    </tr>\n",
       "    <tr>\n",
       "      <th>7</th>\n",
       "      <td>104_day_moving_avg</td>\n",
       "      <td>all_items_value</td>\n",
       "      <td>68.0</td>\n",
       "    </tr>\n",
       "    <tr>\n",
       "      <th>8</th>\n",
       "      <td>holts_optimized</td>\n",
       "      <td>all_items_value</td>\n",
       "      <td>35.0</td>\n",
       "    </tr>\n",
       "  </tbody>\n",
       "</table>\n",
       "</div>"
      ],
      "text/plain": [
       "            model_type       target_var   rmse\n",
       "0  last_observed_value  all_items_value   51.0\n",
       "1       simple_average  all_items_value  113.0\n",
       "2       30d_moving_avg  all_items_value   57.0\n",
       "3     4_day_moving_avg  all_items_value   52.0\n",
       "4    12_day_moving_avg  all_items_value   53.0\n",
       "5    26_day_moving_avg  all_items_value   56.0\n",
       "6    52_day_moving_avg  all_items_value   61.0\n",
       "7   104_day_moving_avg  all_items_value   68.0\n",
       "8      holts_optimized  all_items_value   35.0"
      ]
     },
     "execution_count": 75,
     "metadata": {},
     "output_type": "execute_result"
    }
   ],
   "source": [
    "eval_df"
   ]
  },
  {
   "cell_type": "code",
   "execution_count": 76,
   "id": "ccf13795",
   "metadata": {},
   "outputs": [
    {
     "data": {
      "text/html": [
       "<div>\n",
       "<style scoped>\n",
       "    .dataframe tbody tr th:only-of-type {\n",
       "        vertical-align: middle;\n",
       "    }\n",
       "\n",
       "    .dataframe tbody tr th {\n",
       "        vertical-align: top;\n",
       "    }\n",
       "\n",
       "    .dataframe thead th {\n",
       "        text-align: right;\n",
       "    }\n",
       "</style>\n",
       "<table border=\"1\" class=\"dataframe\">\n",
       "  <thead>\n",
       "    <tr style=\"text-align: right;\">\n",
       "      <th></th>\n",
       "      <th>model_type</th>\n",
       "      <th>target_var</th>\n",
       "      <th>rmse</th>\n",
       "    </tr>\n",
       "  </thead>\n",
       "  <tbody>\n",
       "    <tr>\n",
       "      <th>8</th>\n",
       "      <td>holts_optimized</td>\n",
       "      <td>all_items_value</td>\n",
       "      <td>35.0</td>\n",
       "    </tr>\n",
       "  </tbody>\n",
       "</table>\n",
       "</div>"
      ],
      "text/plain": [
       "        model_type       target_var  rmse\n",
       "8  holts_optimized  all_items_value  35.0"
      ]
     },
     "execution_count": 76,
     "metadata": {},
     "output_type": "execute_result"
    }
   ],
   "source": [
    "min_rmse = eval_df.groupby('target_var')['rmse'].min()[0]\n",
    "# find which model that is\n",
    "eval_df[(eval_df.rmse == min_rmse)]"
   ]
  },
  {
   "cell_type": "markdown",
   "id": "6bf462c6",
   "metadata": {},
   "source": [
    "Let's test it out on our out-of-sample data\n",
    "\n",
    "We will be using train + validate to predict test. "
   ]
  },
  {
   "cell_type": "code",
   "execution_count": 103,
   "id": "a2fb659c",
   "metadata": {},
   "outputs": [],
   "source": [
    "col = 'all_items_value' \n",
    "model = Holt(train[col], exponential=False, damped=True)\n",
    "model = model.fit(optimized=True)\n",
    "yhat_items = model.predict(start = test.index[0],\n",
    "                              end = test.index[-1])\n",
    "final_yhat = pd.DataFrame(round(yhat_items, 2), columns = ['all_items_value'])"
   ]
  },
  {
   "cell_type": "code",
   "execution_count": 104,
   "id": "105a70d1",
   "metadata": {},
   "outputs": [
    {
     "data": {
      "text/html": [
       "<div>\n",
       "<style scoped>\n",
       "    .dataframe tbody tr th:only-of-type {\n",
       "        vertical-align: middle;\n",
       "    }\n",
       "\n",
       "    .dataframe tbody tr th {\n",
       "        vertical-align: top;\n",
       "    }\n",
       "\n",
       "    .dataframe thead th {\n",
       "        text-align: right;\n",
       "    }\n",
       "</style>\n",
       "<table border=\"1\" class=\"dataframe\">\n",
       "  <thead>\n",
       "    <tr style=\"text-align: right;\">\n",
       "      <th></th>\n",
       "      <th>all_items_value</th>\n",
       "    </tr>\n",
       "  </thead>\n",
       "  <tbody>\n",
       "    <tr>\n",
       "      <th>2009-07-01</th>\n",
       "      <td>146.01</td>\n",
       "    </tr>\n",
       "    <tr>\n",
       "      <th>2009-08-01</th>\n",
       "      <td>146.02</td>\n",
       "    </tr>\n",
       "    <tr>\n",
       "      <th>2009-09-01</th>\n",
       "      <td>146.02</td>\n",
       "    </tr>\n",
       "    <tr>\n",
       "      <th>2009-10-01</th>\n",
       "      <td>146.03</td>\n",
       "    </tr>\n",
       "    <tr>\n",
       "      <th>2009-11-01</th>\n",
       "      <td>146.03</td>\n",
       "    </tr>\n",
       "    <tr>\n",
       "      <th>...</th>\n",
       "      <td>...</td>\n",
       "    </tr>\n",
       "    <tr>\n",
       "      <th>2022-03-01</th>\n",
       "      <td>146.20</td>\n",
       "    </tr>\n",
       "    <tr>\n",
       "      <th>2022-04-01</th>\n",
       "      <td>146.20</td>\n",
       "    </tr>\n",
       "    <tr>\n",
       "      <th>2022-05-01</th>\n",
       "      <td>146.20</td>\n",
       "    </tr>\n",
       "    <tr>\n",
       "      <th>2022-06-01</th>\n",
       "      <td>146.20</td>\n",
       "    </tr>\n",
       "    <tr>\n",
       "      <th>2022-07-01</th>\n",
       "      <td>146.20</td>\n",
       "    </tr>\n",
       "  </tbody>\n",
       "</table>\n",
       "<p>157 rows × 1 columns</p>\n",
       "</div>"
      ],
      "text/plain": [
       "            all_items_value\n",
       "2009-07-01           146.01\n",
       "2009-08-01           146.02\n",
       "2009-09-01           146.02\n",
       "2009-10-01           146.03\n",
       "2009-11-01           146.03\n",
       "...                     ...\n",
       "2022-03-01           146.20\n",
       "2022-04-01           146.20\n",
       "2022-05-01           146.20\n",
       "2022-06-01           146.20\n",
       "2022-07-01           146.20\n",
       "\n",
       "[157 rows x 1 columns]"
      ]
     },
     "execution_count": 104,
     "metadata": {},
     "output_type": "execute_result"
    }
   ],
   "source": [
    "final_yhat"
   ]
  },
  {
   "cell_type": "code",
   "execution_count": 105,
   "id": "c6ac9a25",
   "metadata": {},
   "outputs": [
    {
     "data": {
      "text/plain": [
       "98.0"
      ]
     },
     "execution_count": 105,
     "metadata": {},
     "output_type": "execute_result"
    }
   ],
   "source": [
    "rmse = round(sqrt(mean_squared_error(test[col], final_yhat[col])), 0)\n",
    "rmse"
   ]
  }
 ],
 "metadata": {
  "kernelspec": {
   "display_name": "Python 3 (ipykernel)",
   "language": "python",
   "name": "python3"
  },
  "language_info": {
   "codemirror_mode": {
    "name": "ipython",
    "version": 3
   },
   "file_extension": ".py",
   "mimetype": "text/x-python",
   "name": "python",
   "nbconvert_exporter": "python",
   "pygments_lexer": "ipython3",
   "version": "3.9.12"
  }
 },
 "nbformat": 4,
 "nbformat_minor": 5
}
