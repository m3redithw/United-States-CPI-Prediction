{
 "cells": [
  {
   "cell_type": "code",
   "execution_count": 2,
   "id": "ee4ae5ca",
   "metadata": {},
   "outputs": [],
   "source": [
    "# ignore warning\n",
    "import warnings\n",
    "warnings.filterwarnings(\"ignore\")\n",
    "\n",
    "import numpy as np\n",
    "import pandas as pd\n",
    "\n",
    "# visualize \n",
    "import matplotlib.pyplot as plt\n",
    "%matplotlib inline\n",
    "import seaborn as sns\n",
    "\n",
    "# working with dates\n",
    "from datetime import datetime\n",
    "\n",
    "# to evaluated performance using rmse\n",
    "from sklearn.metrics import mean_squared_error\n",
    "from math import sqrt \n",
    "\n",
    "# for tsa \n",
    "import statsmodels.api as sm\n",
    "\n",
    "# holt's linear trend model. \n",
    "from statsmodels.tsa.api import Holt\n",
    "\n",
    "# import prepare function\n",
    "import prepare"
   ]
  },
  {
   "cell_type": "markdown",
   "id": "a13ac0df",
   "metadata": {},
   "source": [
    "# Wrangle"
   ]
  },
  {
   "cell_type": "code",
   "execution_count": 3,
   "id": "9b7b1575",
   "metadata": {},
   "outputs": [],
   "source": [
    "# Getting data using prepare function\n",
    "df = prepare.get_data()"
   ]
  },
  {
   "cell_type": "code",
   "execution_count": 4,
   "id": "0425126c",
   "metadata": {},
   "outputs": [
    {
     "data": {
      "text/html": [
       "<div>\n",
       "<style scoped>\n",
       "    .dataframe tbody tr th:only-of-type {\n",
       "        vertical-align: middle;\n",
       "    }\n",
       "\n",
       "    .dataframe tbody tr th {\n",
       "        vertical-align: top;\n",
       "    }\n",
       "\n",
       "    .dataframe thead th {\n",
       "        text-align: right;\n",
       "    }\n",
       "</style>\n",
       "<table border=\"1\" class=\"dataframe\">\n",
       "  <thead>\n",
       "    <tr style=\"text-align: right;\">\n",
       "      <th></th>\n",
       "      <th>year</th>\n",
       "      <th>month</th>\n",
       "      <th>label</th>\n",
       "      <th>all_items_value</th>\n",
       "      <th>all_items_ monthly_change</th>\n",
       "      <th>apparel_value</th>\n",
       "      <th>apparel_monthly_change</th>\n",
       "      <th>energy_value</th>\n",
       "      <th>energy_monthly_change</th>\n",
       "      <th>food_value</th>\n",
       "      <th>food_monthly_change</th>\n",
       "      <th>gas_value</th>\n",
       "      <th>gas_monthly_change</th>\n",
       "      <th>medical_value</th>\n",
       "      <th>medical_monthly_change</th>\n",
       "      <th>transportation_value</th>\n",
       "      <th>transportation_monthly_change</th>\n",
       "    </tr>\n",
       "  </thead>\n",
       "  <tbody>\n",
       "    <tr>\n",
       "      <th>0</th>\n",
       "      <td>1970</td>\n",
       "      <td>01</td>\n",
       "      <td>1957-01-01</td>\n",
       "      <td>27.67</td>\n",
       "      <td>0.1</td>\n",
       "      <td>44.3</td>\n",
       "      <td>0.0</td>\n",
       "      <td>21.3</td>\n",
       "      <td>0.0</td>\n",
       "      <td>28.4</td>\n",
       "      <td>-0.4</td>\n",
       "      <td>NaN</td>\n",
       "      <td>NaN</td>\n",
       "      <td>16.7</td>\n",
       "      <td>0.6</td>\n",
       "      <td>23.5</td>\n",
       "      <td>0.9</td>\n",
       "    </tr>\n",
       "    <tr>\n",
       "      <th>1</th>\n",
       "      <td>1970</td>\n",
       "      <td>02</td>\n",
       "      <td>1957-02-01</td>\n",
       "      <td>27.80</td>\n",
       "      <td>0.5</td>\n",
       "      <td>44.3</td>\n",
       "      <td>0.0</td>\n",
       "      <td>21.4</td>\n",
       "      <td>0.5</td>\n",
       "      <td>28.7</td>\n",
       "      <td>1.1</td>\n",
       "      <td>NaN</td>\n",
       "      <td>NaN</td>\n",
       "      <td>16.7</td>\n",
       "      <td>0.0</td>\n",
       "      <td>23.7</td>\n",
       "      <td>0.9</td>\n",
       "    </tr>\n",
       "    <tr>\n",
       "      <th>2</th>\n",
       "      <td>1970</td>\n",
       "      <td>03</td>\n",
       "      <td>1957-03-01</td>\n",
       "      <td>27.86</td>\n",
       "      <td>0.2</td>\n",
       "      <td>44.5</td>\n",
       "      <td>0.5</td>\n",
       "      <td>21.5</td>\n",
       "      <td>0.5</td>\n",
       "      <td>28.6</td>\n",
       "      <td>-0.3</td>\n",
       "      <td>NaN</td>\n",
       "      <td>NaN</td>\n",
       "      <td>16.8</td>\n",
       "      <td>0.6</td>\n",
       "      <td>23.7</td>\n",
       "      <td>0.0</td>\n",
       "    </tr>\n",
       "    <tr>\n",
       "      <th>3</th>\n",
       "      <td>1970</td>\n",
       "      <td>04</td>\n",
       "      <td>1957-04-01</td>\n",
       "      <td>27.93</td>\n",
       "      <td>0.3</td>\n",
       "      <td>44.4</td>\n",
       "      <td>-0.2</td>\n",
       "      <td>21.6</td>\n",
       "      <td>0.5</td>\n",
       "      <td>28.6</td>\n",
       "      <td>0.0</td>\n",
       "      <td>NaN</td>\n",
       "      <td>NaN</td>\n",
       "      <td>16.9</td>\n",
       "      <td>0.6</td>\n",
       "      <td>23.8</td>\n",
       "      <td>0.4</td>\n",
       "    </tr>\n",
       "    <tr>\n",
       "      <th>4</th>\n",
       "      <td>1970</td>\n",
       "      <td>05</td>\n",
       "      <td>1957-05-01</td>\n",
       "      <td>28.00</td>\n",
       "      <td>0.3</td>\n",
       "      <td>44.5</td>\n",
       "      <td>0.2</td>\n",
       "      <td>21.6</td>\n",
       "      <td>0.0</td>\n",
       "      <td>28.7</td>\n",
       "      <td>0.3</td>\n",
       "      <td>NaN</td>\n",
       "      <td>NaN</td>\n",
       "      <td>16.9</td>\n",
       "      <td>0.0</td>\n",
       "      <td>23.9</td>\n",
       "      <td>0.4</td>\n",
       "    </tr>\n",
       "  </tbody>\n",
       "</table>\n",
       "</div>"
      ],
      "text/plain": [
       "   year month      label  all_items_value  all_items_ monthly_change  \\\n",
       "0  1970    01 1957-01-01            27.67                        0.1   \n",
       "1  1970    02 1957-02-01            27.80                        0.5   \n",
       "2  1970    03 1957-03-01            27.86                        0.2   \n",
       "3  1970    04 1957-04-01            27.93                        0.3   \n",
       "4  1970    05 1957-05-01            28.00                        0.3   \n",
       "\n",
       "   apparel_value  apparel_monthly_change  energy_value  energy_monthly_change  \\\n",
       "0           44.3                     0.0          21.3                    0.0   \n",
       "1           44.3                     0.0          21.4                    0.5   \n",
       "2           44.5                     0.5          21.5                    0.5   \n",
       "3           44.4                    -0.2          21.6                    0.5   \n",
       "4           44.5                     0.2          21.6                    0.0   \n",
       "\n",
       "   food_value  food_monthly_change  gas_value  gas_monthly_change  \\\n",
       "0        28.4                 -0.4        NaN                 NaN   \n",
       "1        28.7                  1.1        NaN                 NaN   \n",
       "2        28.6                 -0.3        NaN                 NaN   \n",
       "3        28.6                  0.0        NaN                 NaN   \n",
       "4        28.7                  0.3        NaN                 NaN   \n",
       "\n",
       "   medical_value  medical_monthly_change  transportation_value  \\\n",
       "0           16.7                     0.6                  23.5   \n",
       "1           16.7                     0.0                  23.7   \n",
       "2           16.8                     0.6                  23.7   \n",
       "3           16.9                     0.6                  23.8   \n",
       "4           16.9                     0.0                  23.9   \n",
       "\n",
       "   transportation_monthly_change  \n",
       "0                            0.9  \n",
       "1                            0.9  \n",
       "2                            0.0  \n",
       "3                            0.4  \n",
       "4                            0.4  "
      ]
     },
     "execution_count": 4,
     "metadata": {},
     "output_type": "execute_result"
    }
   ],
   "source": [
    "df.head()"
   ]
  },
  {
   "cell_type": "code",
   "execution_count": 5,
   "id": "c1cd32e4",
   "metadata": {},
   "outputs": [
    {
     "data": {
      "text/plain": [
       "(787, 17)"
      ]
     },
     "execution_count": 5,
     "metadata": {},
     "output_type": "execute_result"
    }
   ],
   "source": [
    "# Check the shape of data\n",
    "df.shape"
   ]
  },
  {
   "cell_type": "code",
   "execution_count": 7,
   "id": "d9868a57",
   "metadata": {},
   "outputs": [],
   "source": [
    "# Setting label as index\n",
    "df = df.set_index('label')"
   ]
  },
  {
   "cell_type": "markdown",
   "id": "ecc35c85",
   "metadata": {},
   "source": [
    "# Split Data\n",
    "\n",
    "1. We will use the training proportion method to split.    \n",
    "2. Identify the total length of the dataframe and multiply by `train_prop` to get the number of rows that equates to the first x% of the dataframe, which equates to the first x% of the time covered in the data.   (`x = train_prop * 100`)  \n",
    "3. Select row indices from 0 up to the index representing x-percentile for train, and from the index representing x-percentile through the end of the dataframe for test. In both of these, we will reset the index in order to return dataframes sorted by datetime.  \n",
    "4. Return train and test dataframes.  "
   ]
  },
  {
   "cell_type": "code",
   "execution_count": 9,
   "id": "3cb22e96",
   "metadata": {},
   "outputs": [
    {
     "data": {
      "text/plain": [
       "394"
      ]
     },
     "execution_count": 9,
     "metadata": {},
     "output_type": "execute_result"
    }
   ],
   "source": [
    "# set train size to be 50% of total \n",
    "train_size = int(round(df.shape[0] * 0.5))\n",
    "train_size"
   ]
  },
  {
   "cell_type": "code",
   "execution_count": 10,
   "id": "ac6937cd",
   "metadata": {},
   "outputs": [
    {
     "data": {
      "text/plain": [
       "236"
      ]
     },
     "execution_count": 10,
     "metadata": {},
     "output_type": "execute_result"
    }
   ],
   "source": [
    "# set validate size to be 30% of total \n",
    "validate_size = int(round(df.shape[0] * 0.3))\n",
    "validate_size"
   ]
  },
  {
   "cell_type": "code",
   "execution_count": 11,
   "id": "dba7e7fc",
   "metadata": {},
   "outputs": [
    {
     "data": {
      "text/plain": [
       "157"
      ]
     },
     "execution_count": 11,
     "metadata": {},
     "output_type": "execute_result"
    }
   ],
   "source": [
    "# set test size to be number of rows remaining. \n",
    "test_size = int(round(df.shape[0] * 0.2))\n",
    "test_size"
   ]
  },
  {
   "cell_type": "code",
   "execution_count": 12,
   "id": "4e34bf9a",
   "metadata": {},
   "outputs": [
    {
     "data": {
      "text/plain": [
       "True"
      ]
     },
     "execution_count": 12,
     "metadata": {},
     "output_type": "execute_result"
    }
   ],
   "source": [
    "# Varify length\n",
    "len(df) == train_size + validate_size + test_size"
   ]
  },
  {
   "cell_type": "code",
   "execution_count": 13,
   "id": "03f39a74",
   "metadata": {},
   "outputs": [
    {
     "data": {
      "text/plain": [
       "630"
      ]
     },
     "execution_count": 13,
     "metadata": {},
     "output_type": "execute_result"
    }
   ],
   "source": [
    "# validate will go from 394 to 394+236\n",
    "validate_end_index = train_size + validate_size\n",
    "validate_end_index"
   ]
  },
  {
   "cell_type": "markdown",
   "id": "995d0126",
   "metadata": {},
   "source": [
    "#### Now, use those values to split our dataframe"
   ]
  },
  {
   "cell_type": "code",
   "execution_count": 14,
   "id": "c7f466c9",
   "metadata": {},
   "outputs": [],
   "source": [
    "# train will go from 0 to 394\n",
    "train = df[:train_size]"
   ]
  },
  {
   "cell_type": "code",
   "execution_count": 16,
   "id": "5072a7bc",
   "metadata": {},
   "outputs": [],
   "source": [
    "# validate will go from 394 to 630\n",
    "validate = df[train_size:validate_end_index]"
   ]
  },
  {
   "cell_type": "code",
   "execution_count": 17,
   "id": "c5f7105a",
   "metadata": {},
   "outputs": [
    {
     "data": {
      "text/html": [
       "<div>\n",
       "<style scoped>\n",
       "    .dataframe tbody tr th:only-of-type {\n",
       "        vertical-align: middle;\n",
       "    }\n",
       "\n",
       "    .dataframe tbody tr th {\n",
       "        vertical-align: top;\n",
       "    }\n",
       "\n",
       "    .dataframe thead th {\n",
       "        text-align: right;\n",
       "    }\n",
       "</style>\n",
       "<table border=\"1\" class=\"dataframe\">\n",
       "  <thead>\n",
       "    <tr style=\"text-align: right;\">\n",
       "      <th></th>\n",
       "      <th>year</th>\n",
       "      <th>month</th>\n",
       "      <th>all_items_value</th>\n",
       "      <th>all_items_ monthly_change</th>\n",
       "      <th>apparel_value</th>\n",
       "      <th>apparel_monthly_change</th>\n",
       "      <th>energy_value</th>\n",
       "      <th>energy_monthly_change</th>\n",
       "      <th>food_value</th>\n",
       "      <th>food_monthly_change</th>\n",
       "      <th>gas_value</th>\n",
       "      <th>gas_monthly_change</th>\n",
       "      <th>medical_value</th>\n",
       "      <th>medical_monthly_change</th>\n",
       "      <th>transportation_value</th>\n",
       "      <th>transportation_monthly_change</th>\n",
       "    </tr>\n",
       "    <tr>\n",
       "      <th>label</th>\n",
       "      <th></th>\n",
       "      <th></th>\n",
       "      <th></th>\n",
       "      <th></th>\n",
       "      <th></th>\n",
       "      <th></th>\n",
       "      <th></th>\n",
       "      <th></th>\n",
       "      <th></th>\n",
       "      <th></th>\n",
       "      <th></th>\n",
       "      <th></th>\n",
       "      <th></th>\n",
       "      <th></th>\n",
       "      <th></th>\n",
       "      <th></th>\n",
       "    </tr>\n",
       "  </thead>\n",
       "  <tbody>\n",
       "    <tr>\n",
       "      <th>1989-06-01</th>\n",
       "      <td>1970</td>\n",
       "      <td>06</td>\n",
       "      <td>124.1</td>\n",
       "      <td>0.3</td>\n",
       "      <td>118.7</td>\n",
       "      <td>-0.2</td>\n",
       "      <td>96.9</td>\n",
       "      <td>-0.5</td>\n",
       "      <td>125.1</td>\n",
       "      <td>0.3</td>\n",
       "      <td>94.0</td>\n",
       "      <td>-1.9</td>\n",
       "      <td>148.1</td>\n",
       "      <td>0.7</td>\n",
       "      <td>136.0</td>\n",
       "      <td>0.5</td>\n",
       "    </tr>\n",
       "    <tr>\n",
       "      <th>1989-07-01</th>\n",
       "      <td>1970</td>\n",
       "      <td>07</td>\n",
       "      <td>124.5</td>\n",
       "      <td>0.3</td>\n",
       "      <td>118.3</td>\n",
       "      <td>-0.3</td>\n",
       "      <td>96.7</td>\n",
       "      <td>-0.2</td>\n",
       "      <td>125.6</td>\n",
       "      <td>0.4</td>\n",
       "      <td>93.2</td>\n",
       "      <td>-0.9</td>\n",
       "      <td>149.2</td>\n",
       "      <td>0.7</td>\n",
       "      <td>136.1</td>\n",
       "      <td>0.1</td>\n",
       "    </tr>\n",
       "    <tr>\n",
       "      <th>1989-08-01</th>\n",
       "      <td>1970</td>\n",
       "      <td>08</td>\n",
       "      <td>124.5</td>\n",
       "      <td>0.0</td>\n",
       "      <td>117.1</td>\n",
       "      <td>-1.0</td>\n",
       "      <td>94.9</td>\n",
       "      <td>-1.9</td>\n",
       "      <td>125.9</td>\n",
       "      <td>0.2</td>\n",
       "      <td>89.1</td>\n",
       "      <td>-4.4</td>\n",
       "      <td>150.3</td>\n",
       "      <td>0.7</td>\n",
       "      <td>136.6</td>\n",
       "      <td>0.4</td>\n",
       "    </tr>\n",
       "    <tr>\n",
       "      <th>1989-09-01</th>\n",
       "      <td>1970</td>\n",
       "      <td>09</td>\n",
       "      <td>124.8</td>\n",
       "      <td>0.2</td>\n",
       "      <td>118.7</td>\n",
       "      <td>1.4</td>\n",
       "      <td>93.8</td>\n",
       "      <td>-1.2</td>\n",
       "      <td>126.3</td>\n",
       "      <td>0.3</td>\n",
       "      <td>87.0</td>\n",
       "      <td>-2.4</td>\n",
       "      <td>151.4</td>\n",
       "      <td>0.7</td>\n",
       "      <td>137.0</td>\n",
       "      <td>0.3</td>\n",
       "    </tr>\n",
       "    <tr>\n",
       "      <th>1989-10-01</th>\n",
       "      <td>1970</td>\n",
       "      <td>10</td>\n",
       "      <td>125.4</td>\n",
       "      <td>0.5</td>\n",
       "      <td>119.6</td>\n",
       "      <td>0.8</td>\n",
       "      <td>94.4</td>\n",
       "      <td>0.6</td>\n",
       "      <td>126.8</td>\n",
       "      <td>0.4</td>\n",
       "      <td>87.8</td>\n",
       "      <td>0.9</td>\n",
       "      <td>152.4</td>\n",
       "      <td>0.7</td>\n",
       "      <td>137.6</td>\n",
       "      <td>0.4</td>\n",
       "    </tr>\n",
       "  </tbody>\n",
       "</table>\n",
       "</div>"
      ],
      "text/plain": [
       "            year month  all_items_value  all_items_ monthly_change  \\\n",
       "label                                                                \n",
       "1989-06-01  1970    06            124.1                        0.3   \n",
       "1989-07-01  1970    07            124.5                        0.3   \n",
       "1989-08-01  1970    08            124.5                        0.0   \n",
       "1989-09-01  1970    09            124.8                        0.2   \n",
       "1989-10-01  1970    10            125.4                        0.5   \n",
       "\n",
       "            apparel_value  apparel_monthly_change  energy_value  \\\n",
       "label                                                             \n",
       "1989-06-01          118.7                    -0.2          96.9   \n",
       "1989-07-01          118.3                    -0.3          96.7   \n",
       "1989-08-01          117.1                    -1.0          94.9   \n",
       "1989-09-01          118.7                     1.4          93.8   \n",
       "1989-10-01          119.6                     0.8          94.4   \n",
       "\n",
       "            energy_monthly_change  food_value  food_monthly_change  gas_value  \\\n",
       "label                                                                           \n",
       "1989-06-01                   -0.5       125.1                  0.3       94.0   \n",
       "1989-07-01                   -0.2       125.6                  0.4       93.2   \n",
       "1989-08-01                   -1.9       125.9                  0.2       89.1   \n",
       "1989-09-01                   -1.2       126.3                  0.3       87.0   \n",
       "1989-10-01                    0.6       126.8                  0.4       87.8   \n",
       "\n",
       "            gas_monthly_change  medical_value  medical_monthly_change  \\\n",
       "label                                                                   \n",
       "1989-06-01                -1.9          148.1                     0.7   \n",
       "1989-07-01                -0.9          149.2                     0.7   \n",
       "1989-08-01                -4.4          150.3                     0.7   \n",
       "1989-09-01                -2.4          151.4                     0.7   \n",
       "1989-10-01                 0.9          152.4                     0.7   \n",
       "\n",
       "            transportation_value  transportation_monthly_change  \n",
       "label                                                            \n",
       "1989-06-01                 136.0                            0.5  \n",
       "1989-07-01                 136.1                            0.1  \n",
       "1989-08-01                 136.6                            0.4  \n",
       "1989-09-01                 137.0                            0.3  \n",
       "1989-10-01                 137.6                            0.4  "
      ]
     },
     "execution_count": 17,
     "metadata": {},
     "output_type": "execute_result"
    }
   ],
   "source": [
    "# Checking if tail of train match with validate head\n",
    "train.tail()"
   ]
  },
  {
   "cell_type": "code",
   "execution_count": 18,
   "id": "b5f13dd0",
   "metadata": {},
   "outputs": [
    {
     "data": {
      "text/html": [
       "<div>\n",
       "<style scoped>\n",
       "    .dataframe tbody tr th:only-of-type {\n",
       "        vertical-align: middle;\n",
       "    }\n",
       "\n",
       "    .dataframe tbody tr th {\n",
       "        vertical-align: top;\n",
       "    }\n",
       "\n",
       "    .dataframe thead th {\n",
       "        text-align: right;\n",
       "    }\n",
       "</style>\n",
       "<table border=\"1\" class=\"dataframe\">\n",
       "  <thead>\n",
       "    <tr style=\"text-align: right;\">\n",
       "      <th></th>\n",
       "      <th>year</th>\n",
       "      <th>month</th>\n",
       "      <th>all_items_value</th>\n",
       "      <th>all_items_ monthly_change</th>\n",
       "      <th>apparel_value</th>\n",
       "      <th>apparel_monthly_change</th>\n",
       "      <th>energy_value</th>\n",
       "      <th>energy_monthly_change</th>\n",
       "      <th>food_value</th>\n",
       "      <th>food_monthly_change</th>\n",
       "      <th>gas_value</th>\n",
       "      <th>gas_monthly_change</th>\n",
       "      <th>medical_value</th>\n",
       "      <th>medical_monthly_change</th>\n",
       "      <th>transportation_value</th>\n",
       "      <th>transportation_monthly_change</th>\n",
       "    </tr>\n",
       "    <tr>\n",
       "      <th>label</th>\n",
       "      <th></th>\n",
       "      <th></th>\n",
       "      <th></th>\n",
       "      <th></th>\n",
       "      <th></th>\n",
       "      <th></th>\n",
       "      <th></th>\n",
       "      <th></th>\n",
       "      <th></th>\n",
       "      <th></th>\n",
       "      <th></th>\n",
       "      <th></th>\n",
       "      <th></th>\n",
       "      <th></th>\n",
       "      <th></th>\n",
       "      <th></th>\n",
       "    </tr>\n",
       "  </thead>\n",
       "  <tbody>\n",
       "    <tr>\n",
       "      <th>1989-11-01</th>\n",
       "      <td>1970</td>\n",
       "      <td>11</td>\n",
       "      <td>125.9</td>\n",
       "      <td>0.4</td>\n",
       "      <td>120.0</td>\n",
       "      <td>0.3</td>\n",
       "      <td>93.9</td>\n",
       "      <td>-0.5</td>\n",
       "      <td>127.4</td>\n",
       "      <td>0.5</td>\n",
       "      <td>86.1</td>\n",
       "      <td>-1.9</td>\n",
       "      <td>153.7</td>\n",
       "      <td>0.9</td>\n",
       "      <td>137.6</td>\n",
       "      <td>0.0</td>\n",
       "    </tr>\n",
       "    <tr>\n",
       "      <th>1989-12-01</th>\n",
       "      <td>1970</td>\n",
       "      <td>12</td>\n",
       "      <td>126.3</td>\n",
       "      <td>0.3</td>\n",
       "      <td>119.8</td>\n",
       "      <td>-0.2</td>\n",
       "      <td>94.2</td>\n",
       "      <td>0.3</td>\n",
       "      <td>127.8</td>\n",
       "      <td>0.3</td>\n",
       "      <td>86.0</td>\n",
       "      <td>-0.1</td>\n",
       "      <td>154.6</td>\n",
       "      <td>0.6</td>\n",
       "      <td>138.1</td>\n",
       "      <td>0.4</td>\n",
       "    </tr>\n",
       "    <tr>\n",
       "      <th>1990-01-01</th>\n",
       "      <td>1970</td>\n",
       "      <td>01</td>\n",
       "      <td>127.5</td>\n",
       "      <td>1.0</td>\n",
       "      <td>119.9</td>\n",
       "      <td>0.1</td>\n",
       "      <td>98.9</td>\n",
       "      <td>5.0</td>\n",
       "      <td>129.7</td>\n",
       "      <td>1.5</td>\n",
       "      <td>92.9</td>\n",
       "      <td>8.0</td>\n",
       "      <td>155.7</td>\n",
       "      <td>0.7</td>\n",
       "      <td>139.2</td>\n",
       "      <td>0.8</td>\n",
       "    </tr>\n",
       "    <tr>\n",
       "      <th>1990-02-01</th>\n",
       "      <td>1970</td>\n",
       "      <td>02</td>\n",
       "      <td>128.0</td>\n",
       "      <td>0.4</td>\n",
       "      <td>122.0</td>\n",
       "      <td>1.8</td>\n",
       "      <td>98.2</td>\n",
       "      <td>-0.7</td>\n",
       "      <td>130.8</td>\n",
       "      <td>0.8</td>\n",
       "      <td>93.0</td>\n",
       "      <td>0.1</td>\n",
       "      <td>156.7</td>\n",
       "      <td>0.6</td>\n",
       "      <td>140.1</td>\n",
       "      <td>0.6</td>\n",
       "    </tr>\n",
       "    <tr>\n",
       "      <th>1990-03-01</th>\n",
       "      <td>1970</td>\n",
       "      <td>03</td>\n",
       "      <td>128.6</td>\n",
       "      <td>0.5</td>\n",
       "      <td>123.8</td>\n",
       "      <td>1.5</td>\n",
       "      <td>97.6</td>\n",
       "      <td>-0.6</td>\n",
       "      <td>131.0</td>\n",
       "      <td>0.2</td>\n",
       "      <td>92.3</td>\n",
       "      <td>-0.8</td>\n",
       "      <td>158.0</td>\n",
       "      <td>0.8</td>\n",
       "      <td>141.1</td>\n",
       "      <td>0.7</td>\n",
       "    </tr>\n",
       "  </tbody>\n",
       "</table>\n",
       "</div>"
      ],
      "text/plain": [
       "            year month  all_items_value  all_items_ monthly_change  \\\n",
       "label                                                                \n",
       "1989-11-01  1970    11            125.9                        0.4   \n",
       "1989-12-01  1970    12            126.3                        0.3   \n",
       "1990-01-01  1970    01            127.5                        1.0   \n",
       "1990-02-01  1970    02            128.0                        0.4   \n",
       "1990-03-01  1970    03            128.6                        0.5   \n",
       "\n",
       "            apparel_value  apparel_monthly_change  energy_value  \\\n",
       "label                                                             \n",
       "1989-11-01          120.0                     0.3          93.9   \n",
       "1989-12-01          119.8                    -0.2          94.2   \n",
       "1990-01-01          119.9                     0.1          98.9   \n",
       "1990-02-01          122.0                     1.8          98.2   \n",
       "1990-03-01          123.8                     1.5          97.6   \n",
       "\n",
       "            energy_monthly_change  food_value  food_monthly_change  gas_value  \\\n",
       "label                                                                           \n",
       "1989-11-01                   -0.5       127.4                  0.5       86.1   \n",
       "1989-12-01                    0.3       127.8                  0.3       86.0   \n",
       "1990-01-01                    5.0       129.7                  1.5       92.9   \n",
       "1990-02-01                   -0.7       130.8                  0.8       93.0   \n",
       "1990-03-01                   -0.6       131.0                  0.2       92.3   \n",
       "\n",
       "            gas_monthly_change  medical_value  medical_monthly_change  \\\n",
       "label                                                                   \n",
       "1989-11-01                -1.9          153.7                     0.9   \n",
       "1989-12-01                -0.1          154.6                     0.6   \n",
       "1990-01-01                 8.0          155.7                     0.7   \n",
       "1990-02-01                 0.1          156.7                     0.6   \n",
       "1990-03-01                -0.8          158.0                     0.8   \n",
       "\n",
       "            transportation_value  transportation_monthly_change  \n",
       "label                                                            \n",
       "1989-11-01                 137.6                            0.0  \n",
       "1989-12-01                 138.1                            0.4  \n",
       "1990-01-01                 139.2                            0.8  \n",
       "1990-02-01                 140.1                            0.6  \n",
       "1990-03-01                 141.1                            0.7  "
      ]
     },
     "execution_count": 18,
     "metadata": {},
     "output_type": "execute_result"
    }
   ],
   "source": [
    "validate.head()"
   ]
  },
  {
   "cell_type": "code",
   "execution_count": 19,
   "id": "f79cf265",
   "metadata": {},
   "outputs": [
    {
     "data": {
      "text/html": [
       "<div>\n",
       "<style scoped>\n",
       "    .dataframe tbody tr th:only-of-type {\n",
       "        vertical-align: middle;\n",
       "    }\n",
       "\n",
       "    .dataframe tbody tr th {\n",
       "        vertical-align: top;\n",
       "    }\n",
       "\n",
       "    .dataframe thead th {\n",
       "        text-align: right;\n",
       "    }\n",
       "</style>\n",
       "<table border=\"1\" class=\"dataframe\">\n",
       "  <thead>\n",
       "    <tr style=\"text-align: right;\">\n",
       "      <th></th>\n",
       "      <th>year</th>\n",
       "      <th>month</th>\n",
       "      <th>all_items_value</th>\n",
       "      <th>all_items_ monthly_change</th>\n",
       "      <th>apparel_value</th>\n",
       "      <th>apparel_monthly_change</th>\n",
       "      <th>energy_value</th>\n",
       "      <th>energy_monthly_change</th>\n",
       "      <th>food_value</th>\n",
       "      <th>food_monthly_change</th>\n",
       "      <th>gas_value</th>\n",
       "      <th>gas_monthly_change</th>\n",
       "      <th>medical_value</th>\n",
       "      <th>medical_monthly_change</th>\n",
       "      <th>transportation_value</th>\n",
       "      <th>transportation_monthly_change</th>\n",
       "    </tr>\n",
       "    <tr>\n",
       "      <th>label</th>\n",
       "      <th></th>\n",
       "      <th></th>\n",
       "      <th></th>\n",
       "      <th></th>\n",
       "      <th></th>\n",
       "      <th></th>\n",
       "      <th></th>\n",
       "      <th></th>\n",
       "      <th></th>\n",
       "      <th></th>\n",
       "      <th></th>\n",
       "      <th></th>\n",
       "      <th></th>\n",
       "      <th></th>\n",
       "      <th></th>\n",
       "      <th></th>\n",
       "    </tr>\n",
       "  </thead>\n",
       "  <tbody>\n",
       "    <tr>\n",
       "      <th>2009-02-01</th>\n",
       "      <td>1970</td>\n",
       "      <td>02</td>\n",
       "      <td>212.705</td>\n",
       "      <td>0.4</td>\n",
       "      <td>119.888</td>\n",
       "      <td>1.6</td>\n",
       "      <td>183.721</td>\n",
       "      <td>2.8</td>\n",
       "      <td>218.949</td>\n",
       "      <td>-0.1</td>\n",
       "      <td>174.067</td>\n",
       "      <td>8.2</td>\n",
       "      <td>392.266</td>\n",
       "      <td>0.2</td>\n",
       "      <td>248.703</td>\n",
       "      <td>0.4</td>\n",
       "    </tr>\n",
       "    <tr>\n",
       "      <th>2009-03-01</th>\n",
       "      <td>1970</td>\n",
       "      <td>03</td>\n",
       "      <td>212.495</td>\n",
       "      <td>-0.1</td>\n",
       "      <td>120.368</td>\n",
       "      <td>0.4</td>\n",
       "      <td>178.415</td>\n",
       "      <td>-2.9</td>\n",
       "      <td>218.510</td>\n",
       "      <td>-0.2</td>\n",
       "      <td>166.814</td>\n",
       "      <td>-4.2</td>\n",
       "      <td>393.285</td>\n",
       "      <td>0.3</td>\n",
       "      <td>248.454</td>\n",
       "      <td>-0.1</td>\n",
       "    </tr>\n",
       "    <tr>\n",
       "      <th>2009-04-01</th>\n",
       "      <td>1970</td>\n",
       "      <td>04</td>\n",
       "      <td>212.709</td>\n",
       "      <td>0.1</td>\n",
       "      <td>120.182</td>\n",
       "      <td>-0.2</td>\n",
       "      <td>177.552</td>\n",
       "      <td>-0.5</td>\n",
       "      <td>218.175</td>\n",
       "      <td>-0.2</td>\n",
       "      <td>168.312</td>\n",
       "      <td>0.9</td>\n",
       "      <td>394.700</td>\n",
       "      <td>0.4</td>\n",
       "      <td>249.081</td>\n",
       "      <td>0.3</td>\n",
       "    </tr>\n",
       "    <tr>\n",
       "      <th>2009-05-01</th>\n",
       "      <td>1970</td>\n",
       "      <td>05</td>\n",
       "      <td>213.022</td>\n",
       "      <td>0.1</td>\n",
       "      <td>120.038</td>\n",
       "      <td>-0.1</td>\n",
       "      <td>179.830</td>\n",
       "      <td>1.3</td>\n",
       "      <td>217.813</td>\n",
       "      <td>-0.2</td>\n",
       "      <td>177.057</td>\n",
       "      <td>5.2</td>\n",
       "      <td>395.999</td>\n",
       "      <td>0.3</td>\n",
       "      <td>248.895</td>\n",
       "      <td>-0.1</td>\n",
       "    </tr>\n",
       "    <tr>\n",
       "      <th>2009-06-01</th>\n",
       "      <td>1970</td>\n",
       "      <td>06</td>\n",
       "      <td>214.790</td>\n",
       "      <td>0.8</td>\n",
       "      <td>120.276</td>\n",
       "      <td>0.2</td>\n",
       "      <td>197.033</td>\n",
       "      <td>9.6</td>\n",
       "      <td>217.813</td>\n",
       "      <td>0.0</td>\n",
       "      <td>213.086</td>\n",
       "      <td>20.3</td>\n",
       "      <td>396.799</td>\n",
       "      <td>0.2</td>\n",
       "      <td>248.503</td>\n",
       "      <td>-0.2</td>\n",
       "    </tr>\n",
       "  </tbody>\n",
       "</table>\n",
       "</div>"
      ],
      "text/plain": [
       "            year month  all_items_value  all_items_ monthly_change  \\\n",
       "label                                                                \n",
       "2009-02-01  1970    02          212.705                        0.4   \n",
       "2009-03-01  1970    03          212.495                       -0.1   \n",
       "2009-04-01  1970    04          212.709                        0.1   \n",
       "2009-05-01  1970    05          213.022                        0.1   \n",
       "2009-06-01  1970    06          214.790                        0.8   \n",
       "\n",
       "            apparel_value  apparel_monthly_change  energy_value  \\\n",
       "label                                                             \n",
       "2009-02-01        119.888                     1.6       183.721   \n",
       "2009-03-01        120.368                     0.4       178.415   \n",
       "2009-04-01        120.182                    -0.2       177.552   \n",
       "2009-05-01        120.038                    -0.1       179.830   \n",
       "2009-06-01        120.276                     0.2       197.033   \n",
       "\n",
       "            energy_monthly_change  food_value  food_monthly_change  gas_value  \\\n",
       "label                                                                           \n",
       "2009-02-01                    2.8     218.949                 -0.1    174.067   \n",
       "2009-03-01                   -2.9     218.510                 -0.2    166.814   \n",
       "2009-04-01                   -0.5     218.175                 -0.2    168.312   \n",
       "2009-05-01                    1.3     217.813                 -0.2    177.057   \n",
       "2009-06-01                    9.6     217.813                  0.0    213.086   \n",
       "\n",
       "            gas_monthly_change  medical_value  medical_monthly_change  \\\n",
       "label                                                                   \n",
       "2009-02-01                 8.2        392.266                     0.2   \n",
       "2009-03-01                -4.2        393.285                     0.3   \n",
       "2009-04-01                 0.9        394.700                     0.4   \n",
       "2009-05-01                 5.2        395.999                     0.3   \n",
       "2009-06-01                20.3        396.799                     0.2   \n",
       "\n",
       "            transportation_value  transportation_monthly_change  \n",
       "label                                                            \n",
       "2009-02-01               248.703                            0.4  \n",
       "2009-03-01               248.454                           -0.1  \n",
       "2009-04-01               249.081                            0.3  \n",
       "2009-05-01               248.895                           -0.1  \n",
       "2009-06-01               248.503                           -0.2  "
      ]
     },
     "execution_count": 19,
     "metadata": {},
     "output_type": "execute_result"
    }
   ],
   "source": [
    "# Checking if tail of validate match with test head\n",
    "validate.tail()"
   ]
  },
  {
   "cell_type": "code",
   "execution_count": 20,
   "id": "f86e1fc7",
   "metadata": {},
   "outputs": [],
   "source": [
    "# test will include 631 to the end\n",
    "test = df[validate_end_index:]"
   ]
  },
  {
   "cell_type": "code",
   "execution_count": 21,
   "id": "4fe09f49",
   "metadata": {},
   "outputs": [
    {
     "data": {
      "text/html": [
       "<div>\n",
       "<style scoped>\n",
       "    .dataframe tbody tr th:only-of-type {\n",
       "        vertical-align: middle;\n",
       "    }\n",
       "\n",
       "    .dataframe tbody tr th {\n",
       "        vertical-align: top;\n",
       "    }\n",
       "\n",
       "    .dataframe thead th {\n",
       "        text-align: right;\n",
       "    }\n",
       "</style>\n",
       "<table border=\"1\" class=\"dataframe\">\n",
       "  <thead>\n",
       "    <tr style=\"text-align: right;\">\n",
       "      <th></th>\n",
       "      <th>year</th>\n",
       "      <th>month</th>\n",
       "      <th>all_items_value</th>\n",
       "      <th>all_items_ monthly_change</th>\n",
       "      <th>apparel_value</th>\n",
       "      <th>apparel_monthly_change</th>\n",
       "      <th>energy_value</th>\n",
       "      <th>energy_monthly_change</th>\n",
       "      <th>food_value</th>\n",
       "      <th>food_monthly_change</th>\n",
       "      <th>gas_value</th>\n",
       "      <th>gas_monthly_change</th>\n",
       "      <th>medical_value</th>\n",
       "      <th>medical_monthly_change</th>\n",
       "      <th>transportation_value</th>\n",
       "      <th>transportation_monthly_change</th>\n",
       "    </tr>\n",
       "    <tr>\n",
       "      <th>label</th>\n",
       "      <th></th>\n",
       "      <th></th>\n",
       "      <th></th>\n",
       "      <th></th>\n",
       "      <th></th>\n",
       "      <th></th>\n",
       "      <th></th>\n",
       "      <th></th>\n",
       "      <th></th>\n",
       "      <th></th>\n",
       "      <th></th>\n",
       "      <th></th>\n",
       "      <th></th>\n",
       "      <th></th>\n",
       "      <th></th>\n",
       "      <th></th>\n",
       "    </tr>\n",
       "  </thead>\n",
       "  <tbody>\n",
       "    <tr>\n",
       "      <th>2009-07-01</th>\n",
       "      <td>1970</td>\n",
       "      <td>07</td>\n",
       "      <td>214.726</td>\n",
       "      <td>0.0</td>\n",
       "      <td>119.984</td>\n",
       "      <td>-0.2</td>\n",
       "      <td>195.778</td>\n",
       "      <td>-0.6</td>\n",
       "      <td>217.387</td>\n",
       "      <td>-0.2</td>\n",
       "      <td>211.649</td>\n",
       "      <td>-0.7</td>\n",
       "      <td>398.036</td>\n",
       "      <td>0.3</td>\n",
       "      <td>250.113</td>\n",
       "      <td>0.6</td>\n",
       "    </tr>\n",
       "    <tr>\n",
       "      <th>2009-08-01</th>\n",
       "      <td>1970</td>\n",
       "      <td>08</td>\n",
       "      <td>215.445</td>\n",
       "      <td>0.3</td>\n",
       "      <td>120.236</td>\n",
       "      <td>0.2</td>\n",
       "      <td>201.583</td>\n",
       "      <td>3.0</td>\n",
       "      <td>217.376</td>\n",
       "      <td>0.0</td>\n",
       "      <td>223.781</td>\n",
       "      <td>5.7</td>\n",
       "      <td>398.919</td>\n",
       "      <td>0.2</td>\n",
       "      <td>251.503</td>\n",
       "      <td>0.6</td>\n",
       "    </tr>\n",
       "    <tr>\n",
       "      <th>2009-09-01</th>\n",
       "      <td>1970</td>\n",
       "      <td>09</td>\n",
       "      <td>215.861</td>\n",
       "      <td>0.2</td>\n",
       "      <td>120.779</td>\n",
       "      <td>0.5</td>\n",
       "      <td>202.777</td>\n",
       "      <td>0.6</td>\n",
       "      <td>217.258</td>\n",
       "      <td>-0.1</td>\n",
       "      <td>226.214</td>\n",
       "      <td>1.1</td>\n",
       "      <td>399.902</td>\n",
       "      <td>0.2</td>\n",
       "      <td>253.010</td>\n",
       "      <td>0.6</td>\n",
       "    </tr>\n",
       "    <tr>\n",
       "      <th>2009-10-01</th>\n",
       "      <td>1970</td>\n",
       "      <td>10</td>\n",
       "      <td>216.509</td>\n",
       "      <td>0.3</td>\n",
       "      <td>120.500</td>\n",
       "      <td>-0.2</td>\n",
       "      <td>204.719</td>\n",
       "      <td>1.0</td>\n",
       "      <td>217.452</td>\n",
       "      <td>0.1</td>\n",
       "      <td>228.651</td>\n",
       "      <td>1.1</td>\n",
       "      <td>400.792</td>\n",
       "      <td>0.2</td>\n",
       "      <td>254.501</td>\n",
       "      <td>0.6</td>\n",
       "    </tr>\n",
       "    <tr>\n",
       "      <th>2009-11-01</th>\n",
       "      <td>1970</td>\n",
       "      <td>11</td>\n",
       "      <td>217.234</td>\n",
       "      <td>0.3</td>\n",
       "      <td>120.007</td>\n",
       "      <td>-0.4</td>\n",
       "      <td>210.932</td>\n",
       "      <td>3.0</td>\n",
       "      <td>217.581</td>\n",
       "      <td>0.1</td>\n",
       "      <td>238.246</td>\n",
       "      <td>4.2</td>\n",
       "      <td>402.295</td>\n",
       "      <td>0.4</td>\n",
       "      <td>255.701</td>\n",
       "      <td>0.5</td>\n",
       "    </tr>\n",
       "  </tbody>\n",
       "</table>\n",
       "</div>"
      ],
      "text/plain": [
       "            year month  all_items_value  all_items_ monthly_change  \\\n",
       "label                                                                \n",
       "2009-07-01  1970    07          214.726                        0.0   \n",
       "2009-08-01  1970    08          215.445                        0.3   \n",
       "2009-09-01  1970    09          215.861                        0.2   \n",
       "2009-10-01  1970    10          216.509                        0.3   \n",
       "2009-11-01  1970    11          217.234                        0.3   \n",
       "\n",
       "            apparel_value  apparel_monthly_change  energy_value  \\\n",
       "label                                                             \n",
       "2009-07-01        119.984                    -0.2       195.778   \n",
       "2009-08-01        120.236                     0.2       201.583   \n",
       "2009-09-01        120.779                     0.5       202.777   \n",
       "2009-10-01        120.500                    -0.2       204.719   \n",
       "2009-11-01        120.007                    -0.4       210.932   \n",
       "\n",
       "            energy_monthly_change  food_value  food_monthly_change  gas_value  \\\n",
       "label                                                                           \n",
       "2009-07-01                   -0.6     217.387                 -0.2    211.649   \n",
       "2009-08-01                    3.0     217.376                  0.0    223.781   \n",
       "2009-09-01                    0.6     217.258                 -0.1    226.214   \n",
       "2009-10-01                    1.0     217.452                  0.1    228.651   \n",
       "2009-11-01                    3.0     217.581                  0.1    238.246   \n",
       "\n",
       "            gas_monthly_change  medical_value  medical_monthly_change  \\\n",
       "label                                                                   \n",
       "2009-07-01                -0.7        398.036                     0.3   \n",
       "2009-08-01                 5.7        398.919                     0.2   \n",
       "2009-09-01                 1.1        399.902                     0.2   \n",
       "2009-10-01                 1.1        400.792                     0.2   \n",
       "2009-11-01                 4.2        402.295                     0.4   \n",
       "\n",
       "            transportation_value  transportation_monthly_change  \n",
       "label                                                            \n",
       "2009-07-01               250.113                            0.6  \n",
       "2009-08-01               251.503                            0.6  \n",
       "2009-09-01               253.010                            0.6  \n",
       "2009-10-01               254.501                            0.6  \n",
       "2009-11-01               255.701                            0.5  "
      ]
     },
     "execution_count": 21,
     "metadata": {},
     "output_type": "execute_result"
    }
   ],
   "source": [
    "test.head()"
   ]
  },
  {
   "cell_type": "code",
   "execution_count": 22,
   "id": "99e399de",
   "metadata": {},
   "outputs": [
    {
     "data": {
      "text/plain": [
       "(394, 236, 157)"
      ]
     },
     "execution_count": 22,
     "metadata": {},
     "output_type": "execute_result"
    }
   ],
   "source": [
    "# Checking shape again\n",
    "train.shape[0], validate.shape[0], test.shape[0]"
   ]
  },
  {
   "cell_type": "code",
   "execution_count": 31,
   "id": "dfd7a827",
   "metadata": {},
   "outputs": [
    {
     "data": {
      "text/plain": [
       "<AxesSubplot:xlabel='label', ylabel='all_items_value'>"
      ]
     },
     "execution_count": 31,
     "metadata": {},
     "output_type": "execute_result"
    },
    {
     "data": {
      "image/png": "[encoded data removed]",
      "text/plain": [
       "<Figure size 1152x576 with 1 Axes>"
      ]
     },
     "metadata": {
      "needs_background": "light"
     },
     "output_type": "display_data"
    }
   ],
   "source": [
    "# Visualizing how data is split through time\n",
    "plt.figure(figsize = (16,8))\n",
    "sns.lineplot(train.index, train.all_items_value, color = '#7FD5EE')\n",
    "sns.lineplot(validate.index, validate.all_items_value)\n",
    "sns.lineplot(test.index, test.all_items_value, color = '#003342')"
   ]
  },
  {
   "cell_type": "markdown",
   "id": "e660bd2c",
   "metadata": {},
   "source": [
    "***"
   ]
  },
  {
   "cell_type": "markdown",
   "id": "e3c78d1d",
   "metadata": {},
   "source": [
    "# Exploratory Data Analysis (EDA)"
   ]
  },
  {
   "cell_type": "code",
   "execution_count": 32,
   "id": "69b012a7",
   "metadata": {},
   "outputs": [
    {
     "data": {
      "text/html": [
       "<div>\n",
       "<style scoped>\n",
       "    .dataframe tbody tr th:only-of-type {\n",
       "        vertical-align: middle;\n",
       "    }\n",
       "\n",
       "    .dataframe tbody tr th {\n",
       "        vertical-align: top;\n",
       "    }\n",
       "\n",
       "    .dataframe thead th {\n",
       "        text-align: right;\n",
       "    }\n",
       "</style>\n",
       "<table border=\"1\" class=\"dataframe\">\n",
       "  <thead>\n",
       "    <tr style=\"text-align: right;\">\n",
       "      <th></th>\n",
       "      <th>year</th>\n",
       "      <th>month</th>\n",
       "      <th>all_items_value</th>\n",
       "      <th>all_items_ monthly_change</th>\n",
       "      <th>apparel_value</th>\n",
       "      <th>apparel_monthly_change</th>\n",
       "      <th>energy_value</th>\n",
       "      <th>energy_monthly_change</th>\n",
       "      <th>food_value</th>\n",
       "      <th>food_monthly_change</th>\n",
       "      <th>gas_value</th>\n",
       "      <th>gas_monthly_change</th>\n",
       "      <th>medical_value</th>\n",
       "      <th>medical_monthly_change</th>\n",
       "      <th>transportation_value</th>\n",
       "      <th>transportation_monthly_change</th>\n",
       "    </tr>\n",
       "    <tr>\n",
       "      <th>label</th>\n",
       "      <th></th>\n",
       "      <th></th>\n",
       "      <th></th>\n",
       "      <th></th>\n",
       "      <th></th>\n",
       "      <th></th>\n",
       "      <th></th>\n",
       "      <th></th>\n",
       "      <th></th>\n",
       "      <th></th>\n",
       "      <th></th>\n",
       "      <th></th>\n",
       "      <th></th>\n",
       "      <th></th>\n",
       "      <th></th>\n",
       "      <th></th>\n",
       "    </tr>\n",
       "  </thead>\n",
       "  <tbody>\n",
       "    <tr>\n",
       "      <th>1957-01-01</th>\n",
       "      <td>1970</td>\n",
       "      <td>01</td>\n",
       "      <td>27.67</td>\n",
       "      <td>0.1</td>\n",
       "      <td>44.3</td>\n",
       "      <td>0.0</td>\n",
       "      <td>21.3</td>\n",
       "      <td>0.0</td>\n",
       "      <td>28.4</td>\n",
       "      <td>-0.4</td>\n",
       "      <td>NaN</td>\n",
       "      <td>NaN</td>\n",
       "      <td>16.7</td>\n",
       "      <td>0.6</td>\n",
       "      <td>23.5</td>\n",
       "      <td>0.9</td>\n",
       "    </tr>\n",
       "    <tr>\n",
       "      <th>1957-02-01</th>\n",
       "      <td>1970</td>\n",
       "      <td>02</td>\n",
       "      <td>27.80</td>\n",
       "      <td>0.5</td>\n",
       "      <td>44.3</td>\n",
       "      <td>0.0</td>\n",
       "      <td>21.4</td>\n",
       "      <td>0.5</td>\n",
       "      <td>28.7</td>\n",
       "      <td>1.1</td>\n",
       "      <td>NaN</td>\n",
       "      <td>NaN</td>\n",
       "      <td>16.7</td>\n",
       "      <td>0.0</td>\n",
       "      <td>23.7</td>\n",
       "      <td>0.9</td>\n",
       "    </tr>\n",
       "    <tr>\n",
       "      <th>1957-03-01</th>\n",
       "      <td>1970</td>\n",
       "      <td>03</td>\n",
       "      <td>27.86</td>\n",
       "      <td>0.2</td>\n",
       "      <td>44.5</td>\n",
       "      <td>0.5</td>\n",
       "      <td>21.5</td>\n",
       "      <td>0.5</td>\n",
       "      <td>28.6</td>\n",
       "      <td>-0.3</td>\n",
       "      <td>NaN</td>\n",
       "      <td>NaN</td>\n",
       "      <td>16.8</td>\n",
       "      <td>0.6</td>\n",
       "      <td>23.7</td>\n",
       "      <td>0.0</td>\n",
       "    </tr>\n",
       "    <tr>\n",
       "      <th>1957-04-01</th>\n",
       "      <td>1970</td>\n",
       "      <td>04</td>\n",
       "      <td>27.93</td>\n",
       "      <td>0.3</td>\n",
       "      <td>44.4</td>\n",
       "      <td>-0.2</td>\n",
       "      <td>21.6</td>\n",
       "      <td>0.5</td>\n",
       "      <td>28.6</td>\n",
       "      <td>0.0</td>\n",
       "      <td>NaN</td>\n",
       "      <td>NaN</td>\n",
       "      <td>16.9</td>\n",
       "      <td>0.6</td>\n",
       "      <td>23.8</td>\n",
       "      <td>0.4</td>\n",
       "    </tr>\n",
       "    <tr>\n",
       "      <th>1957-05-01</th>\n",
       "      <td>1970</td>\n",
       "      <td>05</td>\n",
       "      <td>28.00</td>\n",
       "      <td>0.3</td>\n",
       "      <td>44.5</td>\n",
       "      <td>0.2</td>\n",
       "      <td>21.6</td>\n",
       "      <td>0.0</td>\n",
       "      <td>28.7</td>\n",
       "      <td>0.3</td>\n",
       "      <td>NaN</td>\n",
       "      <td>NaN</td>\n",
       "      <td>16.9</td>\n",
       "      <td>0.0</td>\n",
       "      <td>23.9</td>\n",
       "      <td>0.4</td>\n",
       "    </tr>\n",
       "  </tbody>\n",
       "</table>\n",
       "</div>"
      ],
      "text/plain": [
       "            year month  all_items_value  all_items_ monthly_change  \\\n",
       "label                                                                \n",
       "1957-01-01  1970    01            27.67                        0.1   \n",
       "1957-02-01  1970    02            27.80                        0.5   \n",
       "1957-03-01  1970    03            27.86                        0.2   \n",
       "1957-04-01  1970    04            27.93                        0.3   \n",
       "1957-05-01  1970    05            28.00                        0.3   \n",
       "\n",
       "            apparel_value  apparel_monthly_change  energy_value  \\\n",
       "label                                                             \n",
       "1957-01-01           44.3                     0.0          21.3   \n",
       "1957-02-01           44.3                     0.0          21.4   \n",
       "1957-03-01           44.5                     0.5          21.5   \n",
       "1957-04-01           44.4                    -0.2          21.6   \n",
       "1957-05-01           44.5                     0.2          21.6   \n",
       "\n",
       "            energy_monthly_change  food_value  food_monthly_change  gas_value  \\\n",
       "label                                                                           \n",
       "1957-01-01                    0.0        28.4                 -0.4        NaN   \n",
       "1957-02-01                    0.5        28.7                  1.1        NaN   \n",
       "1957-03-01                    0.5        28.6                 -0.3        NaN   \n",
       "1957-04-01                    0.5        28.6                  0.0        NaN   \n",
       "1957-05-01                    0.0        28.7                  0.3        NaN   \n",
       "\n",
       "            gas_monthly_change  medical_value  medical_monthly_change  \\\n",
       "label                                                                   \n",
       "1957-01-01                 NaN           16.7                     0.6   \n",
       "1957-02-01                 NaN           16.7                     0.0   \n",
       "1957-03-01                 NaN           16.8                     0.6   \n",
       "1957-04-01                 NaN           16.9                     0.6   \n",
       "1957-05-01                 NaN           16.9                     0.0   \n",
       "\n",
       "            transportation_value  transportation_monthly_change  \n",
       "label                                                            \n",
       "1957-01-01                  23.5                            0.9  \n",
       "1957-02-01                  23.7                            0.9  \n",
       "1957-03-01                  23.7                            0.0  \n",
       "1957-04-01                  23.8                            0.4  \n",
       "1957-05-01                  23.9                            0.4  "
      ]
     },
     "execution_count": 32,
     "metadata": {},
     "output_type": "execute_result"
    }
   ],
   "source": [
    "train.head()"
   ]
  },
  {
   "cell_type": "markdown",
   "id": "b56e8d3d",
   "metadata": {},
   "source": [
    "### All Category Price Trend"
   ]
  },
  {
   "cell_type": "code",
   "execution_count": 70,
   "id": "8ab50df2",
   "metadata": {},
   "outputs": [
    {
     "data": {
      "text/plain": [
       "<matplotlib.legend.Legend at 0x7fe0b1f82f10>"
      ]
     },
     "execution_count": 70,
     "metadata": {},
     "output_type": "execute_result"
    },
    {
     "data": {
      "image/png": "[encoded data removed]",
      "text/plain": [
       "<Figure size 1296x648 with 1 Axes>"
      ]
     },
     "metadata": {
      "needs_background": "light"
     },
     "output_type": "display_data"
    }
   ],
   "source": [
    "# Visualizing value over time\n",
    "plt.figure(figsize = (18,9))\n",
    "sns.lineplot(x=train.index, y=train.all_items_value, label = 'All items', linewidth = 3, color = '#8a8a8a')\n",
    "sns.lineplot(x=train.index, y=train.apparel_value, label ='Apparel', linewidth = 3, color = '#846353')\n",
    "sns.lineplot(x=train.index, y=train.energy_value, label = 'Energy', linewidth = 3, color = '#5b766f')\n",
    "sns.lineplot(x=train.index, y=train.food_value, label = 'Food', linewidth = 3, color = '#5e6857')\n",
    "sns.lineplot(x=train.index, y=train.gas_value, label = 'Gas', linewidth = 3, color = '#d46c31')\n",
    "sns.lineplot(x=train.index, y=train.medical_value, label = 'Medical', linewidth = 3, color = '#6a9fa6')\n",
    "sns.lineplot(x=train.index, y=train.transportation_value, label = 'Transportation', linewidth = 3, color = '#9a8d91')\n",
    "\n",
    "plt.legend()"
   ]
  },
  {
   "cell_type": "markdown",
   "id": "baf1aba5",
   "metadata": {},
   "source": [
    "### Aggregating by Month"
   ]
  },
  {
   "cell_type": "markdown",
   "id": "08fff5c5",
   "metadata": {},
   "source": [
    "**Al Items**"
   ]
  },
  {
   "cell_type": "code",
   "execution_count": 69,
   "id": "22eb01a4",
   "metadata": {},
   "outputs": [
    {
     "data": {
      "image/png": "[encoded data removed]",
      "text/plain": [
       "<Figure size 864x432 with 1 Axes>"
      ]
     },
     "metadata": {
      "needs_background": "light"
     },
     "output_type": "display_data"
    }
   ],
   "source": [
    "plt.figure(figsize = (12,6))\n",
    "ax = train.groupby(train.month).all_items_value.mean().plot.bar(width=.9, ec='black', color = ['#8a8a8a', '#765a61', '#615768', '#3198d3', '#a67169'])\n",
    "plt.xticks(rotation=0)\n",
    "ax.set(title='Average All Items Value by Month', xlabel='Month', ylabel='All Itmes Value')\n",
    "plt.show()"
   ]
  },
  {
   "cell_type": "markdown",
   "id": "3ac907fa",
   "metadata": {},
   "source": [
    "**Apparel**"
   ]
  },
  {
   "cell_type": "code",
   "execution_count": 71,
   "id": "7cc2d041",
   "metadata": {},
   "outputs": [
    {
     "data": {
      "image/png": "[encoded data removed]",
      "text/plain": [
       "<Figure size 864x432 with 1 Axes>"
      ]
     },
     "metadata": {
      "needs_background": "light"
     },
     "output_type": "display_data"
    }
   ],
   "source": [
    "plt.figure(figsize = (12,6))\n",
    "ax = train.groupby(train.month).apparel_value.mean().plot.bar(width=.9, ec='black', color = ['#8a8a8a', '#765a61', '#615768', '#3198d3', '#a67169'])\n",
    "plt.xticks(rotation=0)\n",
    "ax.set(title='Average Apparel Value by Month', xlabel='Month', ylabel='Apparel Value')\n",
    "plt.show()"
   ]
  },
  {
   "cell_type": "markdown",
   "id": "51157cae",
   "metadata": {},
   "source": [
    "**Energy**"
   ]
  },
  {
   "cell_type": "code",
   "execution_count": 72,
   "id": "dcc89e6a",
   "metadata": {},
   "outputs": [
    {
     "data": {
      "image/png": "[encoded data removed]",
      "text/plain": [
       "<Figure size 864x432 with 1 Axes>"
      ]
     },
     "metadata": {
      "needs_background": "light"
     },
     "output_type": "display_data"
    }
   ],
   "source": [
    "plt.figure(figsize = (12,6))\n",
    "ax = train.groupby(train.month).energy_value.mean().plot.bar(width=.9, ec='black', color = ['#8a8a8a', '#765a61', '#615768', '#3198d3', '#a67169'])\n",
    "plt.xticks(rotation=0)\n",
    "ax.set(title='Average Energy Value by Month', xlabel='Month', ylabel='Energy Value')\n",
    "plt.show()"
   ]
  },
  {
   "cell_type": "markdown",
   "id": "20826990",
   "metadata": {},
   "source": [
    "**Food**"
   ]
  },
  {
   "cell_type": "code",
   "execution_count": 73,
   "id": "88a4d5ba",
   "metadata": {},
   "outputs": [
    {
     "data": {
      "image/png": "[encoded data removed]",
      "text/plain": [
       "<Figure size 864x432 with 1 Axes>"
      ]
     },
     "metadata": {
      "needs_background": "light"
     },
     "output_type": "display_data"
    }
   ],
   "source": [
    "plt.figure(figsize = (12,6))\n",
    "ax = train.groupby(train.month).food_value.mean().plot.bar(width=.9, ec='black', color = ['#8a8a8a', '#765a61', '#615768', '#3198d3', '#a67169'])\n",
    "plt.xticks(rotation=0)\n",
    "ax.set(title='Average Food Value by Month', xlabel='Month', ylabel='Food Value')\n",
    "plt.show()"
   ]
  },
  {
   "cell_type": "markdown",
   "id": "f905c193",
   "metadata": {},
   "source": [
    "**Gasoline**"
   ]
  },
  {
   "cell_type": "code",
   "execution_count": 75,
   "id": "da659dd2",
   "metadata": {},
   "outputs": [
    {
     "data": {
      "image/png": "[encoded data removed]",
      "text/plain": [
       "<Figure size 864x432 with 1 Axes>"
      ]
     },
     "metadata": {
      "needs_background": "light"
     },
     "output_type": "display_data"
    }
   ],
   "source": [
    "plt.figure(figsize = (12,6))\n",
    "ax = train.groupby(train.month).gas_value.mean().plot.bar(width=.9, ec='black', color = ['#8a8a8a', '#765a61', '#615768', '#3198d3', '#a67169'])\n",
    "plt.xticks(rotation=0)\n",
    "ax.set(title='Average Gas Value by Month', xlabel='Month', ylabel='Gas Value')\n",
    "plt.show()"
   ]
  },
  {
   "cell_type": "markdown",
   "id": "9f53fcd1",
   "metadata": {},
   "source": [
    "**Medical**"
   ]
  },
  {
   "cell_type": "code",
   "execution_count": 76,
   "id": "e26b08c2",
   "metadata": {},
   "outputs": [
    {
     "data": {
      "image/png": "[encoded data removed]",
      "text/plain": [
       "<Figure size 864x432 with 1 Axes>"
      ]
     },
     "metadata": {
      "needs_background": "light"
     },
     "output_type": "display_data"
    }
   ],
   "source": [
    "plt.figure(figsize = (12,6))\n",
    "ax = train.groupby(train.month).medical_value.mean().plot.bar(width=.9, ec='black', color = ['#8a8a8a', '#765a61', '#615768', '#3198d3', '#a67169'])\n",
    "plt.xticks(rotation=0)\n",
    "ax.set(title='Average Medical Value by Month', xlabel='Month', ylabel='Medical Value')\n",
    "plt.show()"
   ]
  },
  {
   "cell_type": "markdown",
   "id": "5cb06ab1",
   "metadata": {},
   "source": [
    "**Transportation**"
   ]
  },
  {
   "cell_type": "code",
   "execution_count": 77,
   "id": "75238e2f",
   "metadata": {},
   "outputs": [
    {
     "data": {
      "image/png": "[encoded data removed]",
      "text/plain": [
       "<Figure size 864x432 with 1 Axes>"
      ]
     },
     "metadata": {
      "needs_background": "light"
     },
     "output_type": "display_data"
    }
   ],
   "source": [
    "plt.figure(figsize = (12,6))\n",
    "ax = train.groupby(train.month).transportation_value.mean().plot.bar(width=.9, ec='black', color = ['#8a8a8a', '#765a61', '#615768', '#3198d3', '#a67169'])\n",
    "plt.xticks(rotation=0)\n",
    "ax.set(title='Average Transportation Value by Month', xlabel='Month', ylabel='Transportation Value')\n",
    "plt.show()"
   ]
  },
  {
   "cell_type": "markdown",
   "id": "f4625753",
   "metadata": {},
   "source": [
    "<h3><div class=\"alert alert-info\">We don't see significant difference per month. But values gradually increase from January to October (peek), and dip down in November.</div></h3>"
   ]
  },
  {
   "cell_type": "code",
   "execution_count": null,
   "id": "ad44cf21",
   "metadata": {},
   "outputs": [],
   "source": []
  }
 ],
 "metadata": {
  "kernelspec": {
   "display_name": "Python 3 (ipykernel)",
   "language": "python",
   "name": "python3"
  },
  "language_info": {
   "codemirror_mode": {
    "name": "ipython",
    "version": 3
   },
   "file_extension": ".py",
   "mimetype": "text/x-python",
   "name": "python",
   "nbconvert_exporter": "python",
   "pygments_lexer": "ipython3",
   "version": "3.9.12"
  }
 },
 "nbformat": 4,
 "nbformat_minor": 5
}
